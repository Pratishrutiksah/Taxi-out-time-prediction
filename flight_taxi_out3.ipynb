{
  "nbformat": 4,
  "nbformat_minor": 0,
  "metadata": {
    "colab": {
      "provenance": [],
      "collapsed_sections": [
        "ZsvNz0ImJvOW",
        "c5S5os3WTYA1"
      ],
      "authorship_tag": "ABX9TyPvk+5ahel7qPnn7AKouZkj",
      "include_colab_link": true
    },
    "kernelspec": {
      "name": "python3",
      "display_name": "Python 3"
    },
    "language_info": {
      "name": "python"
    }
  },
  "cells": [
    {
      "cell_type": "markdown",
      "metadata": {
        "id": "view-in-github",
        "colab_type": "text"
      },
      "source": [
        "<a href=\"https://colab.research.google.com/github/Pratishrutiksah/Taxi-out-time-prediction/blob/main/flight_taxi_out3.ipynb\" target=\"_parent\"><img src=\"https://colab.research.google.com/assets/colab-badge.svg\" alt=\"Open In Colab\"/></a>"
      ]
    },
    {
      "cell_type": "code",
      "execution_count": null,
      "metadata": {
        "id": "WAW7haARlLhn"
      },
      "outputs": [],
      "source": [
        "import pandas as pd\n",
        "import numpy as np\n",
        "import matplotlib.pyplot as plt\n",
        "import seaborn as sns\n",
        "from sklearn.preprocessing import LabelEncoder\n",
        "\n",
        "pd.set_option('display.expand_frame_repr',\n",
        "              False)  # to show all the columns in the console\n",
        "sns.set(style=\"white\")\n",
        "\n"
      ]
    },
    {
      "cell_type": "code",
      "source": [
        "# infos about the dataset: https://www.kaggle.com/deepankurk/flight-take-off-data-jfk-airport\n",
        "df = pd.read_csv('/content/M1_final.csv')\n",
        "print(df.head())\n",
        "print(df.shape)\n",
        "print(df.columns)"
      ],
      "metadata": {
        "colab": {
          "base_uri": "https://localhost:8080/"
        },
        "id": "U6LhexmSmfKq",
        "outputId": "e125a43e-3fa2-4511-ad63-bddbe7368741"
      },
      "execution_count": null,
      "outputs": [
        {
          "output_type": "stream",
          "name": "stdout",
          "text": [
            "   MONTH  DAY_OF_MONTH  DAY_OF_WEEK OP_UNIQUE_CARRIER TAIL_NUM DEST  DEP_DELAY  CRS_ELAPSED_TIME  DISTANCE  CRS_DEP_M  ...  Dew Point  Humidity  Wind Wind Speed  Wind Gust Pressure     Condition  sch_dep  sch_arr TAXI_OUT\n",
            "0     11             1            5                B6   N828JB  CHS         -1               124       636        324  ...         34        58     W         25         38    29.86  Fair / Windy        9       17       14\n",
            "1     11             1            5                B6   N992JB  LAX         -7               371      2475        340  ...         34        58     W         25         38    29.86  Fair / Windy        9       17       15\n",
            "2     11             1            5                B6   N959JB  FLL         40               181      1069        301  ...         34        58     W         25         38    29.86  Fair / Windy        9       17       22\n",
            "3     11             1            5                B6   N999JQ  MCO         -2               168       944        345  ...         34        58     W         25         38    29.86  Fair / Windy        9       17       12\n",
            "4     11             1            5                DL   N880DN  ATL         -4               139       760        360  ...         32        58     W         24         35    29.91  Fair / Windy        9       17       13\n",
            "\n",
            "[5 rows x 23 columns]\n",
            "(28820, 23)\n",
            "Index(['MONTH', 'DAY_OF_MONTH', 'DAY_OF_WEEK', 'OP_UNIQUE_CARRIER', 'TAIL_NUM',\n",
            "       'DEST', 'DEP_DELAY', 'CRS_ELAPSED_TIME', 'DISTANCE', 'CRS_DEP_M',\n",
            "       'DEP_TIME_M', 'CRS_ARR_M', 'Temperature', 'Dew Point', 'Humidity',\n",
            "       'Wind', 'Wind Speed', 'Wind Gust', 'Pressure', 'Condition', 'sch_dep',\n",
            "       'sch_arr', 'TAXI_OUT'],\n",
            "      dtype='object')\n"
          ]
        }
      ]
    },
    {
      "cell_type": "code",
      "source": [
        "print(df.info())  # I notice that the column \"Wind\" has 2 null samples\n",
        "df.isnull().sum()  # double-check if some values is null\n",
        "print('Wind missing values --> ', np.round(df['Wind'].isnull().mean(), 4), '%')"
      ],
      "metadata": {
        "colab": {
          "base_uri": "https://localhost:8080/"
        },
        "id": "BFKQqtMyl8l5",
        "outputId": "7ca8ac5a-ec66-4ab3-9abc-a706ab4eb456"
      },
      "execution_count": null,
      "outputs": [
        {
          "output_type": "stream",
          "name": "stdout",
          "text": [
            "<class 'pandas.core.frame.DataFrame'>\n",
            "RangeIndex: 28820 entries, 0 to 28819\n",
            "Data columns (total 23 columns):\n",
            " #   Column             Non-Null Count  Dtype  \n",
            "---  ------             --------------  -----  \n",
            " 0   MONTH              28820 non-null  int64  \n",
            " 1   DAY_OF_MONTH       28820 non-null  int64  \n",
            " 2   DAY_OF_WEEK        28820 non-null  int64  \n",
            " 3   OP_UNIQUE_CARRIER  28820 non-null  object \n",
            " 4   TAIL_NUM           28820 non-null  object \n",
            " 5   DEST               28820 non-null  object \n",
            " 6   DEP_DELAY          28820 non-null  int64  \n",
            " 7   CRS_ELAPSED_TIME   28820 non-null  int64  \n",
            " 8   DISTANCE           28820 non-null  int64  \n",
            " 9   CRS_DEP_M          28820 non-null  int64  \n",
            " 10  DEP_TIME_M         28820 non-null  int64  \n",
            " 11  CRS_ARR_M          28820 non-null  int64  \n",
            " 12  Temperature        28820 non-null  int64  \n",
            " 13  Dew Point          28820 non-null  object \n",
            " 14  Humidity           28820 non-null  int64  \n",
            " 15  Wind               28818 non-null  object \n",
            " 16  Wind Speed         28820 non-null  int64  \n",
            " 17  Wind Gust          28820 non-null  int64  \n",
            " 18  Pressure           28820 non-null  float64\n",
            " 19  Condition          28820 non-null  object \n",
            " 20  sch_dep            28820 non-null  int64  \n",
            " 21  sch_arr            28820 non-null  int64  \n",
            " 22  TAXI_OUT           28820 non-null  int64  \n",
            "dtypes: float64(1), int64(16), object(6)\n",
            "memory usage: 5.1+ MB\n",
            "None\n",
            "Wind missing values -->  0.0001 %\n"
          ]
        }
      ]
    },
    {
      "cell_type": "code",
      "source": [
        "# I see that missing values are just 0.0001% so i decide to remove that instances\n",
        "df.dropna(axis=0, inplace=True)\n"
      ],
      "metadata": {
        "id": "2zS64pgOl-WJ"
      },
      "execution_count": null,
      "outputs": []
    },
    {
      "cell_type": "code",
      "source": [
        "print(df['TAXI_OUT'].mean())\n",
        "print(df['TAXI_OUT'].value_counts())"
      ],
      "metadata": {
        "colab": {
          "base_uri": "https://localhost:8080/"
        },
        "id": "eD1WULP_mAgI",
        "outputId": "8536a71e-9819-4db3-ccc9-3eb2becf4286"
      },
      "execution_count": null,
      "outputs": [
        {
          "output_type": "stream",
          "name": "stdout",
          "text": [
            "20.857207300992435\n",
            "TAXI_OUT\n",
            "16    2008\n",
            "17    1978\n",
            "15    1911\n",
            "18    1893\n",
            "19    1748\n",
            "20    1676\n",
            "14    1626\n",
            "21    1505\n",
            "13    1354\n",
            "22    1352\n",
            "23    1204\n",
            "24    1109\n",
            "25     916\n",
            "12     911\n",
            "26     875\n",
            "27     808\n",
            "28     695\n",
            "29     620\n",
            "11     581\n",
            "30     497\n",
            "31     495\n",
            "32     400\n",
            "33     378\n",
            "34     347\n",
            "35     317\n",
            "10     302\n",
            "36     270\n",
            "37     216\n",
            "39     182\n",
            "38     182\n",
            "40     175\n",
            "41     153\n",
            "9       91\n",
            "8       28\n",
            "7       13\n",
            "5        1\n",
            "6        1\n",
            "Name: count, dtype: int64\n"
          ]
        }
      ]
    },
    {
      "cell_type": "code",
      "source": [
        "airlines = df['OP_UNIQUE_CARRIER'].unique()\n",
        "len(airlines)\n",
        "tail = df['TAIL_NUM'].unique()\n",
        "len(tail)\n",
        "counts = df['OP_UNIQUE_CARRIER'].value_counts()\n",
        "counts.plot(kind='barh')\n",
        "plt.show()\n",
        "# VEDO CHE IL NUMERO DI FLIGHTS CHE ABBIAMO NON è BILANCIATISSIMO RISPETTO A QUALI COMPAGNIE CONSIDERIAMO"
      ],
      "metadata": {
        "colab": {
          "base_uri": "https://localhost:8080/",
          "height": 493
        },
        "id": "DY5ixVxCmHCk",
        "outputId": "fa99cb78-95bc-437f-93b2-ce70d6570aa8"
      },
      "execution_count": null,
      "outputs": [
        {
          "output_type": "display_data",
          "data": {
            "text/plain": [
              "<Figure size 800x550 with 1 Axes>"
            ],
            "image/png": "[encoded data removed]"
          },
          "metadata": {}
        }
      ]
    },
    {
      "cell_type": "code",
      "source": [
        "df.drop('TAIL_NUM',\n",
        "        axis=1,\n",
        "        inplace=True)\n",
        "df.head()"
      ],
      "metadata": {
        "colab": {
          "base_uri": "https://localhost:8080/",
          "height": 359
        },
        "id": "fC0D-puVmrBc",
        "outputId": "4307a2fe-cbeb-45c5-f83d-5ffc0363d81a"
      },
      "execution_count": null,
      "outputs": [
        {
          "output_type": "execute_result",
          "data": {
            "text/plain": [
              "   MONTH  DAY_OF_MONTH  DAY_OF_WEEK OP_UNIQUE_CARRIER DEST  DEP_DELAY  CRS_ELAPSED_TIME  DISTANCE  CRS_DEP_M  DEP_TIME_M  ...  Dew Point  Humidity Wind  Wind Speed Wind Gust  Pressure     Condition  sch_dep sch_arr  TAXI_OUT\n",
              "0     11             1            5                B6  CHS         -1               124       636        324         323  ...         34        58    W          25        38     29.86  Fair / Windy        9      17        14\n",
              "1     11             1            5                B6  LAX         -7               371      2475        340         333  ...         34        58    W          25        38     29.86  Fair / Windy        9      17        15\n",
              "2     11             1            5                B6  FLL         40               181      1069        301         341  ...         34        58    W          25        38     29.86  Fair / Windy        9      17        22\n",
              "3     11             1            5                B6  MCO         -2               168       944        345         343  ...         34        58    W          25        38     29.86  Fair / Windy        9      17        12\n",
              "4     11             1            5                DL  ATL         -4               139       760        360         356  ...         32        58    W          24        35     29.91  Fair / Windy        9      17        13\n",
              "\n",
              "[5 rows x 22 columns]"
            ],
            "text/html": [
              "\n",
              "  <div id=\"df-4d65c09b-9c76-4198-8b15-bd56cd0fa21b\" class=\"colab-df-container\">\n",
              "    <div>\n",
              "<style scoped>\n",
              "    .dataframe tbody tr th:only-of-type {\n",
              "        vertical-align: middle;\n",
              "    }\n",
              "\n",
              "    .dataframe tbody tr th {\n",
              "        vertical-align: top;\n",
              "    }\n",
              "\n",
              "    .dataframe thead th {\n",
              "        text-align: right;\n",
              "    }\n",
              "</style>\n",
              "<table border=\"1\" class=\"dataframe\">\n",
              "  <thead>\n",
              "    <tr style=\"text-align: right;\">\n",
              "      <th></th>\n",
              "      <th>MONTH</th>\n",
              "      <th>DAY_OF_MONTH</th>\n",
              "      <th>DAY_OF_WEEK</th>\n",
              "      <th>OP_UNIQUE_CARRIER</th>\n",
              "      <th>DEST</th>\n",
              "      <th>DEP_DELAY</th>\n",
              "      <th>CRS_ELAPSED_TIME</th>\n",
              "      <th>DISTANCE</th>\n",
              "      <th>CRS_DEP_M</th>\n",
              "      <th>DEP_TIME_M</th>\n",
              "      <th>...</th>\n",
              "      <th>Dew Point</th>\n",
              "      <th>Humidity</th>\n",
              "      <th>Wind</th>\n",
              "      <th>Wind Speed</th>\n",
              "      <th>Wind Gust</th>\n",
              "      <th>Pressure</th>\n",
              "      <th>Condition</th>\n",
              "      <th>sch_dep</th>\n",
              "      <th>sch_arr</th>\n",
              "      <th>TAXI_OUT</th>\n",
              "    </tr>\n",
              "  </thead>\n",
              "  <tbody>\n",
              "    <tr>\n",
              "      <th>0</th>\n",
              "      <td>11</td>\n",
              "      <td>1</td>\n",
              "      <td>5</td>\n",
              "      <td>B6</td>\n",
              "      <td>CHS</td>\n",
              "      <td>-1</td>\n",
              "      <td>124</td>\n",
              "      <td>636</td>\n",
              "      <td>324</td>\n",
              "      <td>323</td>\n",
              "      <td>...</td>\n",
              "      <td>34</td>\n",
              "      <td>58</td>\n",
              "      <td>W</td>\n",
              "      <td>25</td>\n",
              "      <td>38</td>\n",
              "      <td>29.86</td>\n",
              "      <td>Fair / Windy</td>\n",
              "      <td>9</td>\n",
              "      <td>17</td>\n",
              "      <td>14</td>\n",
              "    </tr>\n",
              "    <tr>\n",
              "      <th>1</th>\n",
              "      <td>11</td>\n",
              "      <td>1</td>\n",
              "      <td>5</td>\n",
              "      <td>B6</td>\n",
              "      <td>LAX</td>\n",
              "      <td>-7</td>\n",
              "      <td>371</td>\n",
              "      <td>2475</td>\n",
              "      <td>340</td>\n",
              "      <td>333</td>\n",
              "      <td>...</td>\n",
              "      <td>34</td>\n",
              "      <td>58</td>\n",
              "      <td>W</td>\n",
              "      <td>25</td>\n",
              "      <td>38</td>\n",
              "      <td>29.86</td>\n",
              "      <td>Fair / Windy</td>\n",
              "      <td>9</td>\n",
              "      <td>17</td>\n",
              "      <td>15</td>\n",
              "    </tr>\n",
              "    <tr>\n",
              "      <th>2</th>\n",
              "      <td>11</td>\n",
              "      <td>1</td>\n",
              "      <td>5</td>\n",
              "      <td>B6</td>\n",
              "      <td>FLL</td>\n",
              "      <td>40</td>\n",
              "      <td>181</td>\n",
              "      <td>1069</td>\n",
              "      <td>301</td>\n",
              "      <td>341</td>\n",
              "      <td>...</td>\n",
              "      <td>34</td>\n",
              "      <td>58</td>\n",
              "      <td>W</td>\n",
              "      <td>25</td>\n",
              "      <td>38</td>\n",
              "      <td>29.86</td>\n",
              "      <td>Fair / Windy</td>\n",
              "      <td>9</td>\n",
              "      <td>17</td>\n",
              "      <td>22</td>\n",
              "    </tr>\n",
              "    <tr>\n",
              "      <th>3</th>\n",
              "      <td>11</td>\n",
              "      <td>1</td>\n",
              "      <td>5</td>\n",
              "      <td>B6</td>\n",
              "      <td>MCO</td>\n",
              "      <td>-2</td>\n",
              "      <td>168</td>\n",
              "      <td>944</td>\n",
              "      <td>345</td>\n",
              "      <td>343</td>\n",
              "      <td>...</td>\n",
              "      <td>34</td>\n",
              "      <td>58</td>\n",
              "      <td>W</td>\n",
              "      <td>25</td>\n",
              "      <td>38</td>\n",
              "      <td>29.86</td>\n",
              "      <td>Fair / Windy</td>\n",
              "      <td>9</td>\n",
              "      <td>17</td>\n",
              "      <td>12</td>\n",
              "    </tr>\n",
              "    <tr>\n",
              "      <th>4</th>\n",
              "      <td>11</td>\n",
              "      <td>1</td>\n",
              "      <td>5</td>\n",
              "      <td>DL</td>\n",
              "      <td>ATL</td>\n",
              "      <td>-4</td>\n",
              "      <td>139</td>\n",
              "      <td>760</td>\n",
              "      <td>360</td>\n",
              "      <td>356</td>\n",
              "      <td>...</td>\n",
              "      <td>32</td>\n",
              "      <td>58</td>\n",
              "      <td>W</td>\n",
              "      <td>24</td>\n",
              "      <td>35</td>\n",
              "      <td>29.91</td>\n",
              "      <td>Fair / Windy</td>\n",
              "      <td>9</td>\n",
              "      <td>17</td>\n",
              "      <td>13</td>\n",
              "    </tr>\n",
              "  </tbody>\n",
              "</table>\n",
              "<p>5 rows × 22 columns</p>\n",
              "</div>\n",
              "    <div class=\"colab-df-buttons\">\n",
              "\n",
              "  <div class=\"colab-df-container\">\n",
              "    <button class=\"colab-df-convert\" onclick=\"convertToInteractive('df-4d65c09b-9c76-4198-8b15-bd56cd0fa21b')\"\n",
              "            title=\"Convert this dataframe to an interactive table.\"\n",
              "            style=\"display:none;\">\n",
              "\n",
              "  <svg xmlns=\"http://www.w3.org/2000/svg\" height=\"24px\" viewBox=\"0 -960 960 960\">\n",
              "    <path d=\"M120-120v-720h720v720H120Zm60-500h600v-160H180v160Zm220 220h160v-160H400v160Zm0 220h160v-160H400v160ZM180-400h160v-160H180v160Zm440 0h160v-160H620v160ZM180-180h160v-160H180v160Zm440 0h160v-160H620v160Z\"/>\n",
              "  </svg>\n",
              "    </button>\n",
              "\n",
              "  <style>\n",
              "    .colab-df-container {\n",
              "      display:flex;\n",
              "      gap: 12px;\n",
              "    }\n",
              "\n",
              "    .colab-df-convert {\n",
              "      background-color: #E8F0FE;\n",
              "      border: none;\n",
              "      border-radius: 50%;\n",
              "      cursor: pointer;\n",
              "      display: none;\n",
              "      fill: #1967D2;\n",
              "      height: 32px;\n",
              "      padding: 0 0 0 0;\n",
              "      width: 32px;\n",
              "    }\n",
              "\n",
              "    .colab-df-convert:hover {\n",
              "      background-color: #E2EBFA;\n",
              "      box-shadow: 0px 1px 2px rgba(60, 64, 67, 0.3), 0px 1px 3px 1px rgba(60, 64, 67, 0.15);\n",
              "      fill: #174EA6;\n",
              "    }\n",
              "\n",
              "    .colab-df-buttons div {\n",
              "      margin-bottom: 4px;\n",
              "    }\n",
              "\n",
              "    [theme=dark] .colab-df-convert {\n",
              "      background-color: #3B4455;\n",
              "      fill: #D2E3FC;\n",
              "    }\n",
              "\n",
              "    [theme=dark] .colab-df-convert:hover {\n",
              "      background-color: #434B5C;\n",
              "      box-shadow: 0px 1px 3px 1px rgba(0, 0, 0, 0.15);\n",
              "      filter: drop-shadow(0px 1px 2px rgba(0, 0, 0, 0.3));\n",
              "      fill: #FFFFFF;\n",
              "    }\n",
              "  </style>\n",
              "\n",
              "    <script>\n",
              "      const buttonEl =\n",
              "        document.querySelector('#df-4d65c09b-9c76-4198-8b15-bd56cd0fa21b button.colab-df-convert');\n",
              "      buttonEl.style.display =\n",
              "        google.colab.kernel.accessAllowed ? 'block' : 'none';\n",
              "\n",
              "      async function convertToInteractive(key) {\n",
              "        const element = document.querySelector('#df-4d65c09b-9c76-4198-8b15-bd56cd0fa21b');\n",
              "        const dataTable =\n",
              "          await google.colab.kernel.invokeFunction('convertToInteractive',\n",
              "                                                    [key], {});\n",
              "        if (!dataTable) return;\n",
              "\n",
              "        const docLinkHtml = 'Like what you see? Visit the ' +\n",
              "          '<a target=\"_blank\" href=https://colab.research.google.com/notebooks/data_table.ipynb>data table notebook</a>'\n",
              "          + ' to learn more about interactive tables.';\n",
              "        element.innerHTML = '';\n",
              "        dataTable['output_type'] = 'display_data';\n",
              "        await google.colab.output.renderOutput(dataTable, element);\n",
              "        const docLink = document.createElement('div');\n",
              "        docLink.innerHTML = docLinkHtml;\n",
              "        element.appendChild(docLink);\n",
              "      }\n",
              "    </script>\n",
              "  </div>\n",
              "\n",
              "\n",
              "<div id=\"df-ecdbb349-3b74-414d-bf26-3c0846840ac1\">\n",
              "  <button class=\"colab-df-quickchart\" onclick=\"quickchart('df-ecdbb349-3b74-414d-bf26-3c0846840ac1')\"\n",
              "            title=\"Suggest charts\"\n",
              "            style=\"display:none;\">\n",
              "\n",
              "<svg xmlns=\"http://www.w3.org/2000/svg\" height=\"24px\"viewBox=\"0 0 24 24\"\n",
              "     width=\"24px\">\n",
              "    <g>\n",
              "        <path d=\"M19 3H5c-1.1 0-2 .9-2 2v14c0 1.1.9 2 2 2h14c1.1 0 2-.9 2-2V5c0-1.1-.9-2-2-2zM9 17H7v-7h2v7zm4 0h-2V7h2v10zm4 0h-2v-4h2v4z\"/>\n",
              "    </g>\n",
              "</svg>\n",
              "  </button>\n",
              "\n",
              "<style>\n",
              "  .colab-df-quickchart {\n",
              "      --bg-color: #E8F0FE;\n",
              "      --fill-color: #1967D2;\n",
              "      --hover-bg-color: #E2EBFA;\n",
              "      --hover-fill-color: #174EA6;\n",
              "      --disabled-fill-color: #AAA;\n",
              "      --disabled-bg-color: #DDD;\n",
              "  }\n",
              "\n",
              "  [theme=dark] .colab-df-quickchart {\n",
              "      --bg-color: #3B4455;\n",
              "      --fill-color: #D2E3FC;\n",
              "      --hover-bg-color: #434B5C;\n",
              "      --hover-fill-color: #FFFFFF;\n",
              "      --disabled-bg-color: #3B4455;\n",
              "      --disabled-fill-color: #666;\n",
              "  }\n",
              "\n",
              "  .colab-df-quickchart {\n",
              "    background-color: var(--bg-color);\n",
              "    border: none;\n",
              "    border-radius: 50%;\n",
              "    cursor: pointer;\n",
              "    display: none;\n",
              "    fill: var(--fill-color);\n",
              "    height: 32px;\n",
              "    padding: 0;\n",
              "    width: 32px;\n",
              "  }\n",
              "\n",
              "  .colab-df-quickchart:hover {\n",
              "    background-color: var(--hover-bg-color);\n",
              "    box-shadow: 0 1px 2px rgba(60, 64, 67, 0.3), 0 1px 3px 1px rgba(60, 64, 67, 0.15);\n",
              "    fill: var(--button-hover-fill-color);\n",
              "  }\n",
              "\n",
              "  .colab-df-quickchart-complete:disabled,\n",
              "  .colab-df-quickchart-complete:disabled:hover {\n",
              "    background-color: var(--disabled-bg-color);\n",
              "    fill: var(--disabled-fill-color);\n",
              "    box-shadow: none;\n",
              "  }\n",
              "\n",
              "  .colab-df-spinner {\n",
              "    border: 2px solid var(--fill-color);\n",
              "    border-color: transparent;\n",
              "    border-bottom-color: var(--fill-color);\n",
              "    animation:\n",
              "      spin 1s steps(1) infinite;\n",
              "  }\n",
              "\n",
              "  @keyframes spin {\n",
              "    0% {\n",
              "      border-color: transparent;\n",
              "      border-bottom-color: var(--fill-color);\n",
              "      border-left-color: var(--fill-color);\n",
              "    }\n",
              "    20% {\n",
              "      border-color: transparent;\n",
              "      border-left-color: var(--fill-color);\n",
              "      border-top-color: var(--fill-color);\n",
              "    }\n",
              "    30% {\n",
              "      border-color: transparent;\n",
              "      border-left-color: var(--fill-color);\n",
              "      border-top-color: var(--fill-color);\n",
              "      border-right-color: var(--fill-color);\n",
              "    }\n",
              "    40% {\n",
              "      border-color: transparent;\n",
              "      border-right-color: var(--fill-color);\n",
              "      border-top-color: var(--fill-color);\n",
              "    }\n",
              "    60% {\n",
              "      border-color: transparent;\n",
              "      border-right-color: var(--fill-color);\n",
              "    }\n",
              "    80% {\n",
              "      border-color: transparent;\n",
              "      border-right-color: var(--fill-color);\n",
              "      border-bottom-color: var(--fill-color);\n",
              "    }\n",
              "    90% {\n",
              "      border-color: transparent;\n",
              "      border-bottom-color: var(--fill-color);\n",
              "    }\n",
              "  }\n",
              "</style>\n",
              "\n",
              "  <script>\n",
              "    async function quickchart(key) {\n",
              "      const quickchartButtonEl =\n",
              "        document.querySelector('#' + key + ' button');\n",
              "      quickchartButtonEl.disabled = true;  // To prevent multiple clicks.\n",
              "      quickchartButtonEl.classList.add('colab-df-spinner');\n",
              "      try {\n",
              "        const charts = await google.colab.kernel.invokeFunction(\n",
              "            'suggestCharts', [key], {});\n",
              "      } catch (error) {\n",
              "        console.error('Error during call to suggestCharts:', error);\n",
              "      }\n",
              "      quickchartButtonEl.classList.remove('colab-df-spinner');\n",
              "      quickchartButtonEl.classList.add('colab-df-quickchart-complete');\n",
              "    }\n",
              "    (() => {\n",
              "      let quickchartButtonEl =\n",
              "        document.querySelector('#df-ecdbb349-3b74-414d-bf26-3c0846840ac1 button');\n",
              "      quickchartButtonEl.style.display =\n",
              "        google.colab.kernel.accessAllowed ? 'block' : 'none';\n",
              "    })();\n",
              "  </script>\n",
              "</div>\n",
              "\n",
              "    </div>\n",
              "  </div>\n"
            ],
            "application/vnd.google.colaboratory.intrinsic+json": {
              "type": "dataframe",
              "variable_name": "df"
            }
          },
          "metadata": {},
          "execution_count": 45
        }
      ]
    },
    {
      "cell_type": "code",
      "source": [
        "df['YEAR'] = np.where(df['MONTH'] == 1,\n",
        "                      2020,\n",
        "                      2019)"
      ],
      "metadata": {
        "id": "xPrygm3Tmvy3"
      },
      "execution_count": null,
      "outputs": []
    },
    {
      "cell_type": "code",
      "source": [
        "#df['date'] = pd.to_datetime(df.YEAR * 10000 + df.MONTH * 100 + df.DAY_OF_MONTH,\n",
        "#                            format='%Y%m%d')"
      ],
      "metadata": {
        "id": "-PLWWbs9m7Vl"
      },
      "execution_count": null,
      "outputs": []
    },
    {
      "cell_type": "code",
      "source": [
        "df.drop('YEAR',\n",
        "        axis=1,\n",
        "        inplace=True)"
      ],
      "metadata": {
        "id": "wx_VX35lm-GG"
      },
      "execution_count": null,
      "outputs": []
    },
    {
      "cell_type": "code",
      "source": [
        "y = df[['date', 'TAXI_OUT']].groupby('date').mean()\n",
        "x = df.date.unique()"
      ],
      "metadata": {
        "colab": {
          "base_uri": "https://localhost:8080/",
          "height": 304
        },
        "id": "bUBBKPsCnBEa",
        "outputId": "dc815627-de6f-4b7e-deab-d5e1288b6fd2"
      },
      "execution_count": null,
      "outputs": [
        {
          "output_type": "error",
          "ename": "KeyError",
          "evalue": "\"['date'] not in index\"",
          "traceback": [
            "\u001b[0;31m---------------------------------------------------------------------------\u001b[0m",
            "\u001b[0;31mKeyError\u001b[0m                                  Traceback (most recent call last)",
            "\u001b[0;32m<ipython-input-48-28377ed56d49>\u001b[0m in \u001b[0;36m<cell line: 1>\u001b[0;34m()\u001b[0m\n\u001b[0;32m----> 1\u001b[0;31m \u001b[0my\u001b[0m \u001b[0;34m=\u001b[0m \u001b[0mdf\u001b[0m\u001b[0;34m[\u001b[0m\u001b[0;34m[\u001b[0m\u001b[0;34m'date'\u001b[0m\u001b[0;34m,\u001b[0m \u001b[0;34m'TAXI_OUT'\u001b[0m\u001b[0;34m]\u001b[0m\u001b[0;34m]\u001b[0m\u001b[0;34m.\u001b[0m\u001b[0mgroupby\u001b[0m\u001b[0;34m(\u001b[0m\u001b[0;34m'date'\u001b[0m\u001b[0;34m)\u001b[0m\u001b[0;34m.\u001b[0m\u001b[0mmean\u001b[0m\u001b[0;34m(\u001b[0m\u001b[0;34m)\u001b[0m\u001b[0;34m\u001b[0m\u001b[0;34m\u001b[0m\u001b[0m\n\u001b[0m\u001b[1;32m      2\u001b[0m \u001b[0mx\u001b[0m \u001b[0;34m=\u001b[0m \u001b[0mdf\u001b[0m\u001b[0;34m.\u001b[0m\u001b[0mdate\u001b[0m\u001b[0;34m.\u001b[0m\u001b[0munique\u001b[0m\u001b[0;34m(\u001b[0m\u001b[0;34m)\u001b[0m\u001b[0;34m\u001b[0m\u001b[0;34m\u001b[0m\u001b[0m\n",
            "\u001b[0;32m/usr/local/lib/python3.10/dist-packages/pandas/core/frame.py\u001b[0m in \u001b[0;36m__getitem__\u001b[0;34m(self, key)\u001b[0m\n\u001b[1;32m   3765\u001b[0m             \u001b[0;32mif\u001b[0m \u001b[0mis_iterator\u001b[0m\u001b[0;34m(\u001b[0m\u001b[0mkey\u001b[0m\u001b[0;34m)\u001b[0m\u001b[0;34m:\u001b[0m\u001b[0;34m\u001b[0m\u001b[0;34m\u001b[0m\u001b[0m\n\u001b[1;32m   3766\u001b[0m                 \u001b[0mkey\u001b[0m \u001b[0;34m=\u001b[0m \u001b[0mlist\u001b[0m\u001b[0;34m(\u001b[0m\u001b[0mkey\u001b[0m\u001b[0;34m)\u001b[0m\u001b[0;34m\u001b[0m\u001b[0;34m\u001b[0m\u001b[0m\n\u001b[0;32m-> 3767\u001b[0;31m             \u001b[0mindexer\u001b[0m \u001b[0;34m=\u001b[0m \u001b[0mself\u001b[0m\u001b[0;34m.\u001b[0m\u001b[0mcolumns\u001b[0m\u001b[0;34m.\u001b[0m\u001b[0m_get_indexer_strict\u001b[0m\u001b[0;34m(\u001b[0m\u001b[0mkey\u001b[0m\u001b[0;34m,\u001b[0m \u001b[0;34m\"columns\"\u001b[0m\u001b[0;34m)\u001b[0m\u001b[0;34m[\u001b[0m\u001b[0;36m1\u001b[0m\u001b[0;34m]\u001b[0m\u001b[0;34m\u001b[0m\u001b[0;34m\u001b[0m\u001b[0m\n\u001b[0m\u001b[1;32m   3768\u001b[0m \u001b[0;34m\u001b[0m\u001b[0m\n\u001b[1;32m   3769\u001b[0m         \u001b[0;31m# take() does not accept boolean indexers\u001b[0m\u001b[0;34m\u001b[0m\u001b[0;34m\u001b[0m\u001b[0m\n",
            "\u001b[0;32m/usr/local/lib/python3.10/dist-packages/pandas/core/indexes/base.py\u001b[0m in \u001b[0;36m_get_indexer_strict\u001b[0;34m(self, key, axis_name)\u001b[0m\n\u001b[1;32m   5875\u001b[0m             \u001b[0mkeyarr\u001b[0m\u001b[0;34m,\u001b[0m \u001b[0mindexer\u001b[0m\u001b[0;34m,\u001b[0m \u001b[0mnew_indexer\u001b[0m \u001b[0;34m=\u001b[0m \u001b[0mself\u001b[0m\u001b[0;34m.\u001b[0m\u001b[0m_reindex_non_unique\u001b[0m\u001b[0;34m(\u001b[0m\u001b[0mkeyarr\u001b[0m\u001b[0;34m)\u001b[0m\u001b[0;34m\u001b[0m\u001b[0;34m\u001b[0m\u001b[0m\n\u001b[1;32m   5876\u001b[0m \u001b[0;34m\u001b[0m\u001b[0m\n\u001b[0;32m-> 5877\u001b[0;31m         \u001b[0mself\u001b[0m\u001b[0;34m.\u001b[0m\u001b[0m_raise_if_missing\u001b[0m\u001b[0;34m(\u001b[0m\u001b[0mkeyarr\u001b[0m\u001b[0;34m,\u001b[0m \u001b[0mindexer\u001b[0m\u001b[0;34m,\u001b[0m \u001b[0maxis_name\u001b[0m\u001b[0;34m)\u001b[0m\u001b[0;34m\u001b[0m\u001b[0;34m\u001b[0m\u001b[0m\n\u001b[0m\u001b[1;32m   5878\u001b[0m \u001b[0;34m\u001b[0m\u001b[0m\n\u001b[1;32m   5879\u001b[0m         \u001b[0mkeyarr\u001b[0m \u001b[0;34m=\u001b[0m \u001b[0mself\u001b[0m\u001b[0;34m.\u001b[0m\u001b[0mtake\u001b[0m\u001b[0;34m(\u001b[0m\u001b[0mindexer\u001b[0m\u001b[0;34m)\u001b[0m\u001b[0;34m\u001b[0m\u001b[0;34m\u001b[0m\u001b[0m\n",
            "\u001b[0;32m/usr/local/lib/python3.10/dist-packages/pandas/core/indexes/base.py\u001b[0m in \u001b[0;36m_raise_if_missing\u001b[0;34m(self, key, indexer, axis_name)\u001b[0m\n\u001b[1;32m   5939\u001b[0m \u001b[0;34m\u001b[0m\u001b[0m\n\u001b[1;32m   5940\u001b[0m             \u001b[0mnot_found\u001b[0m \u001b[0;34m=\u001b[0m \u001b[0mlist\u001b[0m\u001b[0;34m(\u001b[0m\u001b[0mensure_index\u001b[0m\u001b[0;34m(\u001b[0m\u001b[0mkey\u001b[0m\u001b[0;34m)\u001b[0m\u001b[0;34m[\u001b[0m\u001b[0mmissing_mask\u001b[0m\u001b[0;34m.\u001b[0m\u001b[0mnonzero\u001b[0m\u001b[0;34m(\u001b[0m\u001b[0;34m)\u001b[0m\u001b[0;34m[\u001b[0m\u001b[0;36m0\u001b[0m\u001b[0;34m]\u001b[0m\u001b[0;34m]\u001b[0m\u001b[0;34m.\u001b[0m\u001b[0munique\u001b[0m\u001b[0;34m(\u001b[0m\u001b[0;34m)\u001b[0m\u001b[0;34m)\u001b[0m\u001b[0;34m\u001b[0m\u001b[0;34m\u001b[0m\u001b[0m\n\u001b[0;32m-> 5941\u001b[0;31m             \u001b[0;32mraise\u001b[0m \u001b[0mKeyError\u001b[0m\u001b[0;34m(\u001b[0m\u001b[0;34mf\"{not_found} not in index\"\u001b[0m\u001b[0;34m)\u001b[0m\u001b[0;34m\u001b[0m\u001b[0;34m\u001b[0m\u001b[0m\n\u001b[0m\u001b[1;32m   5942\u001b[0m \u001b[0;34m\u001b[0m\u001b[0m\n\u001b[1;32m   5943\u001b[0m     \u001b[0;34m@\u001b[0m\u001b[0moverload\u001b[0m\u001b[0;34m\u001b[0m\u001b[0;34m\u001b[0m\u001b[0m\n",
            "\u001b[0;31mKeyError\u001b[0m: \"['date'] not in index\""
          ]
        }
      ]
    },
    {
      "cell_type": "code",
      "source": [
        "df['Dew Point'] = df['Dew Point'].str.strip()\n",
        "df['Dew Point'] = df['Dew Point'].astype(int)\n",
        "df.info()\n",
        "print(df.dtypes)"
      ],
      "metadata": {
        "colab": {
          "base_uri": "https://localhost:8080/"
        },
        "id": "vFCg8xGFnGC3",
        "outputId": "bae675ec-7dd7-4ea2-c667-3d202d4da6c9"
      },
      "execution_count": null,
      "outputs": [
        {
          "output_type": "stream",
          "name": "stdout",
          "text": [
            "<class 'pandas.core.frame.DataFrame'>\n",
            "Index: 28818 entries, 0 to 28819\n",
            "Data columns (total 22 columns):\n",
            " #   Column             Non-Null Count  Dtype  \n",
            "---  ------             --------------  -----  \n",
            " 0   MONTH              28818 non-null  int64  \n",
            " 1   DAY_OF_MONTH       28818 non-null  int64  \n",
            " 2   DAY_OF_WEEK        28818 non-null  int64  \n",
            " 3   OP_UNIQUE_CARRIER  28818 non-null  object \n",
            " 4   DEST               28818 non-null  object \n",
            " 5   DEP_DELAY          28818 non-null  int64  \n",
            " 6   CRS_ELAPSED_TIME   28818 non-null  int64  \n",
            " 7   DISTANCE           28818 non-null  int64  \n",
            " 8   CRS_DEP_M          28818 non-null  int64  \n",
            " 9   DEP_TIME_M         28818 non-null  int64  \n",
            " 10  CRS_ARR_M          28818 non-null  int64  \n",
            " 11  Temperature        28818 non-null  int64  \n",
            " 12  Dew Point          28818 non-null  int64  \n",
            " 13  Humidity           28818 non-null  int64  \n",
            " 14  Wind               28818 non-null  object \n",
            " 15  Wind Speed         28818 non-null  int64  \n",
            " 16  Wind Gust          28818 non-null  int64  \n",
            " 17  Pressure           28818 non-null  float64\n",
            " 18  Condition          28818 non-null  object \n",
            " 19  sch_dep            28818 non-null  int64  \n",
            " 20  sch_arr            28818 non-null  int64  \n",
            " 21  TAXI_OUT           28818 non-null  int64  \n",
            "dtypes: float64(1), int64(17), object(4)\n",
            "memory usage: 5.1+ MB\n",
            "MONTH                  int64\n",
            "DAY_OF_MONTH           int64\n",
            "DAY_OF_WEEK            int64\n",
            "OP_UNIQUE_CARRIER     object\n",
            "DEST                  object\n",
            "DEP_DELAY              int64\n",
            "CRS_ELAPSED_TIME       int64\n",
            "DISTANCE               int64\n",
            "CRS_DEP_M              int64\n",
            "DEP_TIME_M             int64\n",
            "CRS_ARR_M              int64\n",
            "Temperature            int64\n",
            "Dew Point              int64\n",
            "Humidity               int64\n",
            "Wind                  object\n",
            "Wind Speed             int64\n",
            "Wind Gust              int64\n",
            "Pressure             float64\n",
            "Condition             object\n",
            "sch_dep                int64\n",
            "sch_arr                int64\n",
            "TAXI_OUT               int64\n",
            "dtype: object\n"
          ]
        }
      ]
    },
    {
      "cell_type": "code",
      "source": [
        "# label encoder per trasformare features categoriche (stringhe) in int\n",
        "labeled_df = df.copy()\n",
        "label_encoder = LabelEncoder()\n",
        "categorical = (labeled_df.dtypes == 'object')\n",
        "categorical_labels = list(categorical[categorical].index)\n",
        "del categorical_labels[2:6]\n",
        "print(categorical_labels)\n",
        "for column in categorical_labels:\n",
        "    labeled_df[column] = label_encoder.fit_transform(df[column])\n",
        "labeled_df.head()"
      ],
      "metadata": {
        "colab": {
          "base_uri": "https://localhost:8080/",
          "height": 377
        },
        "id": "2Fv4eZaonH6J",
        "outputId": "9d8bd7de-a3fd-4d58-d2d3-faf44e79eacb"
      },
      "execution_count": null,
      "outputs": [
        {
          "output_type": "stream",
          "name": "stdout",
          "text": [
            "['OP_UNIQUE_CARRIER', 'DEST']\n"
          ]
        },
        {
          "output_type": "execute_result",
          "data": {
            "text/plain": [
              "   MONTH  DAY_OF_MONTH  DAY_OF_WEEK  OP_UNIQUE_CARRIER  DEST  DEP_DELAY  CRS_ELAPSED_TIME  DISTANCE  CRS_DEP_M  DEP_TIME_M  ...  Dew Point  Humidity  Wind  Wind Speed Wind Gust  Pressure     Condition  sch_dep sch_arr  TAXI_OUT\n",
              "0     11             1            5                  3    10         -1               124       636        324         323  ...         34        58     W          25        38     29.86  Fair / Windy        9      17        14\n",
              "1     11             1            5                  3    28         -7               371      2475        340         333  ...         34        58     W          25        38     29.86  Fair / Windy        9      17        15\n",
              "2     11             1            5                  3    20         40               181      1069        301         341  ...         34        58     W          25        38     29.86  Fair / Windy        9      17        22\n",
              "3     11             1            5                  3    30         -2               168       944        345         343  ...         34        58     W          25        38     29.86  Fair / Windy        9      17        12\n",
              "4     11             1            5                  4     1         -4               139       760        360         356  ...         32        58     W          24        35     29.91  Fair / Windy        9      17        13\n",
              "\n",
              "[5 rows x 22 columns]"
            ],
            "text/html": [
              "\n",
              "  <div id=\"df-9517a6d3-ab9a-4f2f-8a70-f3b0605ddc0f\" class=\"colab-df-container\">\n",
              "    <div>\n",
              "<style scoped>\n",
              "    .dataframe tbody tr th:only-of-type {\n",
              "        vertical-align: middle;\n",
              "    }\n",
              "\n",
              "    .dataframe tbody tr th {\n",
              "        vertical-align: top;\n",
              "    }\n",
              "\n",
              "    .dataframe thead th {\n",
              "        text-align: right;\n",
              "    }\n",
              "</style>\n",
              "<table border=\"1\" class=\"dataframe\">\n",
              "  <thead>\n",
              "    <tr style=\"text-align: right;\">\n",
              "      <th></th>\n",
              "      <th>MONTH</th>\n",
              "      <th>DAY_OF_MONTH</th>\n",
              "      <th>DAY_OF_WEEK</th>\n",
              "      <th>OP_UNIQUE_CARRIER</th>\n",
              "      <th>DEST</th>\n",
              "      <th>DEP_DELAY</th>\n",
              "      <th>CRS_ELAPSED_TIME</th>\n",
              "      <th>DISTANCE</th>\n",
              "      <th>CRS_DEP_M</th>\n",
              "      <th>DEP_TIME_M</th>\n",
              "      <th>...</th>\n",
              "      <th>Dew Point</th>\n",
              "      <th>Humidity</th>\n",
              "      <th>Wind</th>\n",
              "      <th>Wind Speed</th>\n",
              "      <th>Wind Gust</th>\n",
              "      <th>Pressure</th>\n",
              "      <th>Condition</th>\n",
              "      <th>sch_dep</th>\n",
              "      <th>sch_arr</th>\n",
              "      <th>TAXI_OUT</th>\n",
              "    </tr>\n",
              "  </thead>\n",
              "  <tbody>\n",
              "    <tr>\n",
              "      <th>0</th>\n",
              "      <td>11</td>\n",
              "      <td>1</td>\n",
              "      <td>5</td>\n",
              "      <td>3</td>\n",
              "      <td>10</td>\n",
              "      <td>-1</td>\n",
              "      <td>124</td>\n",
              "      <td>636</td>\n",
              "      <td>324</td>\n",
              "      <td>323</td>\n",
              "      <td>...</td>\n",
              "      <td>34</td>\n",
              "      <td>58</td>\n",
              "      <td>W</td>\n",
              "      <td>25</td>\n",
              "      <td>38</td>\n",
              "      <td>29.86</td>\n",
              "      <td>Fair / Windy</td>\n",
              "      <td>9</td>\n",
              "      <td>17</td>\n",
              "      <td>14</td>\n",
              "    </tr>\n",
              "    <tr>\n",
              "      <th>1</th>\n",
              "      <td>11</td>\n",
              "      <td>1</td>\n",
              "      <td>5</td>\n",
              "      <td>3</td>\n",
              "      <td>28</td>\n",
              "      <td>-7</td>\n",
              "      <td>371</td>\n",
              "      <td>2475</td>\n",
              "      <td>340</td>\n",
              "      <td>333</td>\n",
              "      <td>...</td>\n",
              "      <td>34</td>\n",
              "      <td>58</td>\n",
              "      <td>W</td>\n",
              "      <td>25</td>\n",
              "      <td>38</td>\n",
              "      <td>29.86</td>\n",
              "      <td>Fair / Windy</td>\n",
              "      <td>9</td>\n",
              "      <td>17</td>\n",
              "      <td>15</td>\n",
              "    </tr>\n",
              "    <tr>\n",
              "      <th>2</th>\n",
              "      <td>11</td>\n",
              "      <td>1</td>\n",
              "      <td>5</td>\n",
              "      <td>3</td>\n",
              "      <td>20</td>\n",
              "      <td>40</td>\n",
              "      <td>181</td>\n",
              "      <td>1069</td>\n",
              "      <td>301</td>\n",
              "      <td>341</td>\n",
              "      <td>...</td>\n",
              "      <td>34</td>\n",
              "      <td>58</td>\n",
              "      <td>W</td>\n",
              "      <td>25</td>\n",
              "      <td>38</td>\n",
              "      <td>29.86</td>\n",
              "      <td>Fair / Windy</td>\n",
              "      <td>9</td>\n",
              "      <td>17</td>\n",
              "      <td>22</td>\n",
              "    </tr>\n",
              "    <tr>\n",
              "      <th>3</th>\n",
              "      <td>11</td>\n",
              "      <td>1</td>\n",
              "      <td>5</td>\n",
              "      <td>3</td>\n",
              "      <td>30</td>\n",
              "      <td>-2</td>\n",
              "      <td>168</td>\n",
              "      <td>944</td>\n",
              "      <td>345</td>\n",
              "      <td>343</td>\n",
              "      <td>...</td>\n",
              "      <td>34</td>\n",
              "      <td>58</td>\n",
              "      <td>W</td>\n",
              "      <td>25</td>\n",
              "      <td>38</td>\n",
              "      <td>29.86</td>\n",
              "      <td>Fair / Windy</td>\n",
              "      <td>9</td>\n",
              "      <td>17</td>\n",
              "      <td>12</td>\n",
              "    </tr>\n",
              "    <tr>\n",
              "      <th>4</th>\n",
              "      <td>11</td>\n",
              "      <td>1</td>\n",
              "      <td>5</td>\n",
              "      <td>4</td>\n",
              "      <td>1</td>\n",
              "      <td>-4</td>\n",
              "      <td>139</td>\n",
              "      <td>760</td>\n",
              "      <td>360</td>\n",
              "      <td>356</td>\n",
              "      <td>...</td>\n",
              "      <td>32</td>\n",
              "      <td>58</td>\n",
              "      <td>W</td>\n",
              "      <td>24</td>\n",
              "      <td>35</td>\n",
              "      <td>29.91</td>\n",
              "      <td>Fair / Windy</td>\n",
              "      <td>9</td>\n",
              "      <td>17</td>\n",
              "      <td>13</td>\n",
              "    </tr>\n",
              "  </tbody>\n",
              "</table>\n",
              "<p>5 rows × 22 columns</p>\n",
              "</div>\n",
              "    <div class=\"colab-df-buttons\">\n",
              "\n",
              "  <div class=\"colab-df-container\">\n",
              "    <button class=\"colab-df-convert\" onclick=\"convertToInteractive('df-9517a6d3-ab9a-4f2f-8a70-f3b0605ddc0f')\"\n",
              "            title=\"Convert this dataframe to an interactive table.\"\n",
              "            style=\"display:none;\">\n",
              "\n",
              "  <svg xmlns=\"http://www.w3.org/2000/svg\" height=\"24px\" viewBox=\"0 -960 960 960\">\n",
              "    <path d=\"M120-120v-720h720v720H120Zm60-500h600v-160H180v160Zm220 220h160v-160H400v160Zm0 220h160v-160H400v160ZM180-400h160v-160H180v160Zm440 0h160v-160H620v160ZM180-180h160v-160H180v160Zm440 0h160v-160H620v160Z\"/>\n",
              "  </svg>\n",
              "    </button>\n",
              "\n",
              "  <style>\n",
              "    .colab-df-container {\n",
              "      display:flex;\n",
              "      gap: 12px;\n",
              "    }\n",
              "\n",
              "    .colab-df-convert {\n",
              "      background-color: #E8F0FE;\n",
              "      border: none;\n",
              "      border-radius: 50%;\n",
              "      cursor: pointer;\n",
              "      display: none;\n",
              "      fill: #1967D2;\n",
              "      height: 32px;\n",
              "      padding: 0 0 0 0;\n",
              "      width: 32px;\n",
              "    }\n",
              "\n",
              "    .colab-df-convert:hover {\n",
              "      background-color: #E2EBFA;\n",
              "      box-shadow: 0px 1px 2px rgba(60, 64, 67, 0.3), 0px 1px 3px 1px rgba(60, 64, 67, 0.15);\n",
              "      fill: #174EA6;\n",
              "    }\n",
              "\n",
              "    .colab-df-buttons div {\n",
              "      margin-bottom: 4px;\n",
              "    }\n",
              "\n",
              "    [theme=dark] .colab-df-convert {\n",
              "      background-color: #3B4455;\n",
              "      fill: #D2E3FC;\n",
              "    }\n",
              "\n",
              "    [theme=dark] .colab-df-convert:hover {\n",
              "      background-color: #434B5C;\n",
              "      box-shadow: 0px 1px 3px 1px rgba(0, 0, 0, 0.15);\n",
              "      filter: drop-shadow(0px 1px 2px rgba(0, 0, 0, 0.3));\n",
              "      fill: #FFFFFF;\n",
              "    }\n",
              "  </style>\n",
              "\n",
              "    <script>\n",
              "      const buttonEl =\n",
              "        document.querySelector('#df-9517a6d3-ab9a-4f2f-8a70-f3b0605ddc0f button.colab-df-convert');\n",
              "      buttonEl.style.display =\n",
              "        google.colab.kernel.accessAllowed ? 'block' : 'none';\n",
              "\n",
              "      async function convertToInteractive(key) {\n",
              "        const element = document.querySelector('#df-9517a6d3-ab9a-4f2f-8a70-f3b0605ddc0f');\n",
              "        const dataTable =\n",
              "          await google.colab.kernel.invokeFunction('convertToInteractive',\n",
              "                                                    [key], {});\n",
              "        if (!dataTable) return;\n",
              "\n",
              "        const docLinkHtml = 'Like what you see? Visit the ' +\n",
              "          '<a target=\"_blank\" href=https://colab.research.google.com/notebooks/data_table.ipynb>data table notebook</a>'\n",
              "          + ' to learn more about interactive tables.';\n",
              "        element.innerHTML = '';\n",
              "        dataTable['output_type'] = 'display_data';\n",
              "        await google.colab.output.renderOutput(dataTable, element);\n",
              "        const docLink = document.createElement('div');\n",
              "        docLink.innerHTML = docLinkHtml;\n",
              "        element.appendChild(docLink);\n",
              "      }\n",
              "    </script>\n",
              "  </div>\n",
              "\n",
              "\n",
              "<div id=\"df-418edcad-1a99-4fff-b4aa-0159c2cc5601\">\n",
              "  <button class=\"colab-df-quickchart\" onclick=\"quickchart('df-418edcad-1a99-4fff-b4aa-0159c2cc5601')\"\n",
              "            title=\"Suggest charts\"\n",
              "            style=\"display:none;\">\n",
              "\n",
              "<svg xmlns=\"http://www.w3.org/2000/svg\" height=\"24px\"viewBox=\"0 0 24 24\"\n",
              "     width=\"24px\">\n",
              "    <g>\n",
              "        <path d=\"M19 3H5c-1.1 0-2 .9-2 2v14c0 1.1.9 2 2 2h14c1.1 0 2-.9 2-2V5c0-1.1-.9-2-2-2zM9 17H7v-7h2v7zm4 0h-2V7h2v10zm4 0h-2v-4h2v4z\"/>\n",
              "    </g>\n",
              "</svg>\n",
              "  </button>\n",
              "\n",
              "<style>\n",
              "  .colab-df-quickchart {\n",
              "      --bg-color: #E8F0FE;\n",
              "      --fill-color: #1967D2;\n",
              "      --hover-bg-color: #E2EBFA;\n",
              "      --hover-fill-color: #174EA6;\n",
              "      --disabled-fill-color: #AAA;\n",
              "      --disabled-bg-color: #DDD;\n",
              "  }\n",
              "\n",
              "  [theme=dark] .colab-df-quickchart {\n",
              "      --bg-color: #3B4455;\n",
              "      --fill-color: #D2E3FC;\n",
              "      --hover-bg-color: #434B5C;\n",
              "      --hover-fill-color: #FFFFFF;\n",
              "      --disabled-bg-color: #3B4455;\n",
              "      --disabled-fill-color: #666;\n",
              "  }\n",
              "\n",
              "  .colab-df-quickchart {\n",
              "    background-color: var(--bg-color);\n",
              "    border: none;\n",
              "    border-radius: 50%;\n",
              "    cursor: pointer;\n",
              "    display: none;\n",
              "    fill: var(--fill-color);\n",
              "    height: 32px;\n",
              "    padding: 0;\n",
              "    width: 32px;\n",
              "  }\n",
              "\n",
              "  .colab-df-quickchart:hover {\n",
              "    background-color: var(--hover-bg-color);\n",
              "    box-shadow: 0 1px 2px rgba(60, 64, 67, 0.3), 0 1px 3px 1px rgba(60, 64, 67, 0.15);\n",
              "    fill: var(--button-hover-fill-color);\n",
              "  }\n",
              "\n",
              "  .colab-df-quickchart-complete:disabled,\n",
              "  .colab-df-quickchart-complete:disabled:hover {\n",
              "    background-color: var(--disabled-bg-color);\n",
              "    fill: var(--disabled-fill-color);\n",
              "    box-shadow: none;\n",
              "  }\n",
              "\n",
              "  .colab-df-spinner {\n",
              "    border: 2px solid var(--fill-color);\n",
              "    border-color: transparent;\n",
              "    border-bottom-color: var(--fill-color);\n",
              "    animation:\n",
              "      spin 1s steps(1) infinite;\n",
              "  }\n",
              "\n",
              "  @keyframes spin {\n",
              "    0% {\n",
              "      border-color: transparent;\n",
              "      border-bottom-color: var(--fill-color);\n",
              "      border-left-color: var(--fill-color);\n",
              "    }\n",
              "    20% {\n",
              "      border-color: transparent;\n",
              "      border-left-color: var(--fill-color);\n",
              "      border-top-color: var(--fill-color);\n",
              "    }\n",
              "    30% {\n",
              "      border-color: transparent;\n",
              "      border-left-color: var(--fill-color);\n",
              "      border-top-color: var(--fill-color);\n",
              "      border-right-color: var(--fill-color);\n",
              "    }\n",
              "    40% {\n",
              "      border-color: transparent;\n",
              "      border-right-color: var(--fill-color);\n",
              "      border-top-color: var(--fill-color);\n",
              "    }\n",
              "    60% {\n",
              "      border-color: transparent;\n",
              "      border-right-color: var(--fill-color);\n",
              "    }\n",
              "    80% {\n",
              "      border-color: transparent;\n",
              "      border-right-color: var(--fill-color);\n",
              "      border-bottom-color: var(--fill-color);\n",
              "    }\n",
              "    90% {\n",
              "      border-color: transparent;\n",
              "      border-bottom-color: var(--fill-color);\n",
              "    }\n",
              "  }\n",
              "</style>\n",
              "\n",
              "  <script>\n",
              "    async function quickchart(key) {\n",
              "      const quickchartButtonEl =\n",
              "        document.querySelector('#' + key + ' button');\n",
              "      quickchartButtonEl.disabled = true;  // To prevent multiple clicks.\n",
              "      quickchartButtonEl.classList.add('colab-df-spinner');\n",
              "      try {\n",
              "        const charts = await google.colab.kernel.invokeFunction(\n",
              "            'suggestCharts', [key], {});\n",
              "      } catch (error) {\n",
              "        console.error('Error during call to suggestCharts:', error);\n",
              "      }\n",
              "      quickchartButtonEl.classList.remove('colab-df-spinner');\n",
              "      quickchartButtonEl.classList.add('colab-df-quickchart-complete');\n",
              "    }\n",
              "    (() => {\n",
              "      let quickchartButtonEl =\n",
              "        document.querySelector('#df-418edcad-1a99-4fff-b4aa-0159c2cc5601 button');\n",
              "      quickchartButtonEl.style.display =\n",
              "        google.colab.kernel.accessAllowed ? 'block' : 'none';\n",
              "    })();\n",
              "  </script>\n",
              "</div>\n",
              "\n",
              "    </div>\n",
              "  </div>\n"
            ],
            "application/vnd.google.colaboratory.intrinsic+json": {
              "type": "dataframe",
              "variable_name": "labeled_df"
            }
          },
          "metadata": {},
          "execution_count": 50
        }
      ]
    },
    {
      "cell_type": "code",
      "source": [
        "import pandas as pd\n",
        "import numpy as np\n",
        "import matplotlib.pyplot as plt\n",
        "import seaborn as sns\n",
        "import time\n",
        "from sklearn.preprocessing import LabelEncoder, StandardScaler\n",
        "from sklearn.neural_network import MLPRegressor\n",
        "from sklearn.neighbors import KNeighborsRegressor\n",
        "from sklearn.model_selection import train_test_split, GridSearchCV\n",
        "from sklearn.linear_model import Lasso, LinearRegression\n",
        "from sklearn.ensemble import BaggingRegressor\n",
        "from sklearn import metrics\n",
        "from yellowbrick.regressor import ResidualsPlot"
      ],
      "metadata": {
        "id": "QSTtrW0tnZQa"
      },
      "execution_count": null,
      "outputs": []
    },
    {
      "cell_type": "code",
      "source": [
        "random_state = 17\n",
        "np.random.seed(17)"
      ],
      "metadata": {
        "id": "vVLwfryBndYb"
      },
      "execution_count": null,
      "outputs": []
    },
    {
      "cell_type": "code",
      "source": [
        "df.drop(['DISTANCE'], axis=1,\n",
        "        inplace=True)"
      ],
      "metadata": {
        "id": "HvFymG_Fnj75"
      },
      "execution_count": null,
      "outputs": []
    },
    {
      "cell_type": "code",
      "source": [
        "## ENCODING CATEGORICAL FEATURES WITH LABEL ENCODER\n",
        "\n",
        "labeled_df = df.copy()\n",
        "label_encoder = LabelEncoder()\n",
        "categorical = (labeled_df.dtypes == 'object')\n",
        "numerical = (labeled_df.dtypes != 'object')\n",
        "categorical_labels = list(categorical[categorical].index)\n",
        "numerical_labels = list(numerical[numerical].index)\n",
        "numerical_labels.remove('TAXI_OUT')\n",
        "print(categorical_labels)\n",
        "for column in categorical_labels:\n",
        "    labeled_df[column] = label_encoder.fit_transform(df[column])"
      ],
      "metadata": {
        "colab": {
          "base_uri": "https://localhost:8080/"
        },
        "id": "ToBNKYOPnobG",
        "outputId": "cd0a1f08-027e-48a3-d4ae-ca6faf7bc19c"
      },
      "execution_count": null,
      "outputs": [
        {
          "output_type": "stream",
          "name": "stdout",
          "text": [
            "['OP_UNIQUE_CARRIER', 'DEST', 'Wind', 'Condition']\n"
          ]
        }
      ]
    },
    {
      "cell_type": "code",
      "source": [
        "x = labeled_df['DEP_DELAY'].values.reshape(28818, 1)\n",
        "np.amin(x)\n",
        "x = x + np.abs(np.amin(x))\n",
        "x_logged = np.log(x + 1)"
      ],
      "metadata": {
        "id": "fj4rpHOUnszz"
      },
      "execution_count": null,
      "outputs": []
    },
    {
      "cell_type": "code",
      "source": [
        "# LA RE-INSERISCO NEL DATAFRAME\n",
        "x_logged = x_logged.reshape(28818, )\n",
        "labeled_df['DEP_DELAY'] = x_logged.tolist()"
      ],
      "metadata": {
        "id": "HoZW6r5PnvrI"
      },
      "execution_count": null,
      "outputs": []
    },
    {
      "cell_type": "code",
      "source": [
        "X = labeled_df.copy()\n",
        "X.drop('TAXI_OUT', axis=1, inplace=True)\n",
        "y = labeled_df['TAXI_OUT']\n",
        "# questo splitting è al 100% provvisorio, solo per tracciare il residual plot\n",
        "x_tr, x_t, y_tr, y_t = train_test_split(X, y, test_size=0.2, random_state=0)\n",
        "\n",
        "lr = LinearRegression()\n",
        "residualPlot = ResidualsPlot(lr)\n",
        "\n",
        "residualPlot.fit(x_tr, y_tr)\n",
        "residualPlot.score(x_t, y_t)\n",
        "residualPlot.show()"
      ],
      "metadata": {
        "colab": {
          "base_uri": "https://localhost:8080/",
          "height": 556
        },
        "id": "H5Uzj33Hn1-c",
        "outputId": "0da5aacc-4056-4d7e-b898-4455a4aa4230"
      },
      "execution_count": null,
      "outputs": [
        {
          "output_type": "display_data",
          "data": {
            "text/plain": [
              "<Figure size 800x550 with 2 Axes>"
            ],
            "image/png": "[encoded data removed]"
          },
          "metadata": {}
        },
        {
          "output_type": "execute_result",
          "data": {
            "text/plain": [
              "<Axes: title={'center': 'Residuals for LinearRegression Model'}, xlabel='Predicted Value', ylabel='Residuals'>"
            ]
          },
          "metadata": {},
          "execution_count": 56
        }
      ]
    },
    {
      "cell_type": "code",
      "source": [
        "X = labeled_df.copy()\n",
        "X.drop('TAXI_OUT', axis=1, inplace=True)\n",
        "y = labeled_df['TAXI_OUT']\n",
        "\n",
        "X_train_raw, X_test_raw, y_train, y_test = train_test_split(X, y, random_state=random_state, test_size=0.2)\n"
      ],
      "metadata": {
        "id": "6enlgQy2n60z"
      },
      "execution_count": null,
      "outputs": []
    },
    {
      "cell_type": "code",
      "source": [
        "X_train_raw[numerical_labels].info()"
      ],
      "metadata": {
        "colab": {
          "base_uri": "https://localhost:8080/"
        },
        "id": "2R_MB0Caop-a",
        "outputId": "204ed149-6e17-4846-f84c-795e74f90a79"
      },
      "execution_count": null,
      "outputs": [
        {
          "output_type": "stream",
          "name": "stdout",
          "text": [
            "<class 'pandas.core.frame.DataFrame'>\n",
            "Index: 23054 entries, 10784 to 10863\n",
            "Data columns (total 16 columns):\n",
            " #   Column            Non-Null Count  Dtype  \n",
            "---  ------            --------------  -----  \n",
            " 0   MONTH             23054 non-null  int64  \n",
            " 1   DAY_OF_MONTH      23054 non-null  int64  \n",
            " 2   DAY_OF_WEEK       23054 non-null  int64  \n",
            " 3   DEP_DELAY         23054 non-null  float64\n",
            " 4   CRS_ELAPSED_TIME  23054 non-null  int64  \n",
            " 5   CRS_DEP_M         23054 non-null  int64  \n",
            " 6   DEP_TIME_M        23054 non-null  int64  \n",
            " 7   CRS_ARR_M         23054 non-null  int64  \n",
            " 8   Temperature       23054 non-null  int64  \n",
            " 9   Dew Point         23054 non-null  int64  \n",
            " 10  Humidity          23054 non-null  int64  \n",
            " 11  Wind Speed        23054 non-null  int64  \n",
            " 12  Wind Gust         23054 non-null  int64  \n",
            " 13  Pressure          23054 non-null  float64\n",
            " 14  sch_dep           23054 non-null  int64  \n",
            " 15  sch_arr           23054 non-null  int64  \n",
            "dtypes: float64(2), int64(14)\n",
            "memory usage: 3.0 MB\n"
          ]
        }
      ]
    },
    {
      "cell_type": "markdown",
      "source": [
        "#Modelling"
      ],
      "metadata": {
        "id": "ZsvNz0ImJvOW"
      }
    },
    {
      "cell_type": "code",
      "source": [
        "X_train_raw, X_test_raw, y_train, y_test = train_test_split(X, y, random_state=random_state, test_size=0.2)\n",
        "\n",
        "# per la standardizzazione utilizzo lo standard Scaler perchè sulla documentazione di scikit learn\n",
        "# consiglia di standardizzare con questo se viene utilizzata la Lasso Regression.\n",
        "stdScal = StandardScaler()\n",
        "stdScal.fit(X_train_raw[numerical_labels].astype('float64'))\n",
        "X_train_scaled_num = pd.DataFrame(stdScal.transform(X_train_raw[numerical_labels].astype('float64')),\n",
        "                                  columns=numerical_labels)\n",
        "X_test_scaled_num = pd.DataFrame(stdScal.transform(X_test_raw[numerical_labels].astype('float64')),\n",
        "                                 columns=numerical_labels)\n",
        "\n",
        "X_train_raw.reset_index(drop=True, inplace=True)\n",
        "X_test_raw.reset_index(drop=True, inplace=True)\n",
        "y_train.reset_index(drop=True, inplace=True)\n",
        "y_test.reset_index(drop=True, inplace=True)\n",
        "\n",
        "X_train_scaled = pd.concat([X_train_scaled_num, X_train_raw[categorical_labels]], axis=1)\n",
        "X_test_scaled = pd.concat([X_test_scaled_num, X_test_raw[categorical_labels]], axis=1)"
      ],
      "metadata": {
        "id": "p8WvMKxYruua"
      },
      "execution_count": null,
      "outputs": []
    },
    {
      "cell_type": "code",
      "source": [
        "X_train_scaled.head()"
      ],
      "metadata": {
        "id": "FlTtHG_repab",
        "outputId": "e9f2a504-999f-4272-daf2-199ce307ceab",
        "colab": {
          "base_uri": "https://localhost:8080/",
          "height": 141
        }
      },
      "execution_count": null,
      "outputs": [
        {
          "output_type": "error",
          "ename": "NameError",
          "evalue": "name 'X_train_scaled' is not defined",
          "traceback": [
            "\u001b[0;31m---------------------------------------------------------------------------\u001b[0m",
            "\u001b[0;31mNameError\u001b[0m                                 Traceback (most recent call last)",
            "\u001b[0;32m<ipython-input-1-d9fde1f1c5f9>\u001b[0m in \u001b[0;36m<cell line: 1>\u001b[0;34m()\u001b[0m\n\u001b[0;32m----> 1\u001b[0;31m \u001b[0mX_train_scaled\u001b[0m\u001b[0;34m.\u001b[0m\u001b[0mhead\u001b[0m\u001b[0;34m(\u001b[0m\u001b[0;34m)\u001b[0m\u001b[0;34m\u001b[0m\u001b[0;34m\u001b[0m\u001b[0m\n\u001b[0m",
            "\u001b[0;31mNameError\u001b[0m: name 'X_train_scaled' is not defined"
          ]
        }
      ]
    },
    {
      "cell_type": "code",
      "source": [
        "import pandas as pd\n",
        "from sklearn.model_selection import train_test_split\n",
        "from sklearn.ensemble import GradientBoostingRegressor, RandomForestRegressor\n",
        "from xgboost import XGBRegressor\n",
        "from sklearn.metrics import mean_squared_error"
      ],
      "metadata": {
        "id": "9aZ1hR1lsgFi"
      },
      "execution_count": null,
      "outputs": []
    },
    {
      "cell_type": "code",
      "source": [
        "from xgboost import XGBRegressor\n",
        "from sklearn.metrics import mean_squared_error, r2_score\n",
        "import numpy as np\n",
        "\n",
        "# Best parameters from RandomizedSearchCV\n",
        "best_params_xgb = {\n",
        "    'learning_rate': 0.1,\n",
        "    'max_depth': 3,\n",
        "    'n_estimators': 100,\n",
        "    'random_state': random_state  # Ensure reproducibility\n",
        "}\n",
        "\n",
        "# Initialize and train the XGBoost model with the best parameters\n",
        "xgb_model = XGBRegressor(**best_params_xgb)\n",
        "xgb_model.fit(X_train_scaled, y_train)\n",
        "\n",
        "# Make predictions on the test set\n",
        "y_pred = xgb_model.predict(X_test_scaled)\n",
        "\n",
        "# Calculate R²\n",
        "r2 = r2_score(y_test, y_pred)\n",
        "print(f'R² score: {r2}')\n",
        "\n",
        "xgb_mse = mean_squared_error(y_test, y_pred)\n",
        "print(f'XGBoost MSE: {xgb_mse}')\n",
        "\n",
        "# Calculate RMSE and Negative RMSE\n",
        "rmse = np.sqrt(mean_squared_error(y_test, y_pred))\n",
        "neg_rmse = -rmse\n",
        "print(f'RMSE: {rmse}')\n",
        "print(f'Negative RMSE: {neg_rmse}')\n",
        "print(f'XGBoost MSE: {xgb_mse}')"
      ],
      "metadata": {
        "colab": {
          "base_uri": "https://localhost:8080/"
        },
        "id": "FKkS40jlM9QZ",
        "outputId": "6f6683e7-c72c-4370-fe71-3e22076360c3"
      },
      "execution_count": null,
      "outputs": [
        {
          "output_type": "stream",
          "name": "stdout",
          "text": [
            "R² score: 0.19269439716747072\n",
            "XGBoost MSE: 36.77554232704701\n",
            "RMSE: 6.064284156192469\n",
            "Negative RMSE: -6.064284156192469\n",
            "XGBoost MSE: 36.77554232704701\n"
          ]
        }
      ]
    },
    {
      "cell_type": "code",
      "source": [
        "# Gradient Boosting Machine (GBM)\n",
        "gbm_model = GradientBoostingRegressor(n_estimators=100, learning_rate=0.1, max_depth=3, random_state=random_state)\n",
        "gbm_model.fit(X_train_scaled, y_train)\n",
        "gbm_predictions = gbm_model.predict(X_test_scaled)\n",
        "gbm_mse = mean_squared_error(y_test, gbm_predictions)\n",
        "print(f'GBM MSE: {gbm_mse}')"
      ],
      "metadata": {
        "colab": {
          "base_uri": "https://localhost:8080/"
        },
        "id": "yPj6YlMvsqcu",
        "outputId": "ed702a36-1e34-4c04-fb76-658a0af52a90"
      },
      "execution_count": null,
      "outputs": [
        {
          "output_type": "stream",
          "name": "stdout",
          "text": [
            "GBM MSE: 36.59658221148397\n"
          ]
        }
      ]
    },
    {
      "cell_type": "code",
      "source": [
        "# Random Forest\n",
        "rf_model = RandomForestRegressor(n_estimators=100, max_depth=3, random_state=random_state)\n",
        "rf_model.fit(X_train_scaled, y_train)\n",
        "rf_predictions = rf_model.predict(X_test_scaled)\n",
        "rf_mse = mean_squared_error(y_test, rf_predictions)\n",
        "print(f'Random Forest MSE: {rf_mse}')"
      ],
      "metadata": {
        "colab": {
          "base_uri": "https://localhost:8080/"
        },
        "id": "oI_IB_aHs6UV",
        "outputId": "e8e33644-6263-417b-fd4f-6c20eec050b7"
      },
      "execution_count": null,
      "outputs": [
        {
          "output_type": "stream",
          "name": "stdout",
          "text": [
            "Random Forest MSE: 42.370867792376025\n"
          ]
        }
      ]
    },
    {
      "cell_type": "code",
      "source": [
        "from sklearn.neighbors import KNeighborsRegressor\n",
        "from sklearn.metrics import mean_squared_error, r2_score\n",
        "import numpy as np\n",
        "\n",
        "# Initialize the KNN model with a specified number of neighbors\n",
        "knn_model = KNeighborsRegressor(n_neighbors=5)  # You can adjust the number of neighbors\n",
        "\n",
        "# Train the KNN model on the scaled training data\n",
        "knn_model.fit(X_train_scaled, y_train)\n",
        "\n",
        "# Make predictions on the test set\n",
        "knn_predictions = knn_model.predict(X_test_scaled)\n",
        "\n",
        "# Calculate MSE\n",
        "knn_mse = mean_squared_error(y_test, knn_predictions)\n",
        "print(f'KNN MSE: {knn_mse}')\n",
        "\n",
        "# Calculate R²\n",
        "knn_r2 = r2_score(y_test, knn_predictions)\n",
        "print(f'KNN R²: {knn_r2}')\n",
        "\n",
        "# Calculate RMSE and Negative RMSE\n",
        "knn_rmse = np.sqrt(knn_mse)\n",
        "knn_neg_rmse = -knn_rmse\n",
        "print(f'KNN RMSE: {knn_rmse}')\n",
        "print(f'KNN Negative RMSE: {knn_neg_rmse}')\n",
        "\n",
        "# Print y_test and y_pred\n",
        "print('y_test:', y_test.values)\n",
        "print('y_pred:', knn_predictions)\n"
      ],
      "metadata": {
        "colab": {
          "base_uri": "https://localhost:8080/"
        },
        "id": "E83Z3JhmOaVg",
        "outputId": "3b2e86e9-7e65-4e49-8b7d-eeedb968449e"
      },
      "execution_count": null,
      "outputs": [
        {
          "output_type": "stream",
          "name": "stdout",
          "text": [
            "KNN MSE: 44.49965995836225\n",
            "KNN R²: 0.023132698110971073\n",
            "KNN RMSE: 6.670806544816171\n",
            "KNN Negative RMSE: -6.670806544816171\n",
            "y_test: [18 18 17 ... 17 19 16]\n",
            "y_pred: [21.4 19.4 21.  ... 21.2 22.2 16.6]\n"
          ]
        }
      ]
    },
    {
      "cell_type": "code",
      "source": [
        "import tensorflow as tf\n",
        "from tensorflow.keras.models import Sequential\n",
        "from tensorflow.keras.layers import Dense, Dropout\n",
        "from tensorflow.keras.optimizers import Adam\n",
        "from sklearn.metrics import mean_squared_error, r2_score\n",
        "import numpy as np"
      ],
      "metadata": {
        "id": "isNlQBSmRiye"
      },
      "execution_count": null,
      "outputs": []
    },
    {
      "cell_type": "code",
      "source": [
        "\n",
        "# Define the model architecture\n",
        "model = Sequential([\n",
        "    Dense(128, input_dim=X_train_scaled.shape[1], activation='relu'),\n",
        "    Dropout(0.2),  # Dropout layer to prevent overfitting\n",
        "    Dense(64, activation='relu'),\n",
        "    Dropout(0.2),\n",
        "    Dense(1)  # Output layer with 1 neuron for regression\n",
        "])\n",
        "\n",
        "# Compile the model\n",
        "model.compile(optimizer=Adam(lr=0.001), loss='mean_squared_error')\n",
        "\n",
        "# Print a summary of the model\n",
        "model.summary()\n",
        "\n",
        "# Train the model\n",
        "history = model.fit(X_train_scaled, y_train, epochs=50, batch_size=32, validation_data=(X_test_scaled, y_test), verbose=2)\n",
        "\n",
        "# Make predictions on the test set\n",
        "ann_predictions = model.predict(X_test_scaled).flatten()\n",
        "\n",
        "# Calculate MSE\n",
        "ann_mse = mean_squared_error(y_test, ann_predictions)\n",
        "print(f'ANN MSE: {ann_mse}')\n",
        "\n",
        "# Calculate R²\n",
        "ann_r2 = r2_score(y_test, ann_predictions)\n",
        "print(f'ANN R²: {ann_r2}')\n",
        "\n",
        "# Calculate RMSE and Negative RMSE\n",
        "ann_rmse = np.sqrt(ann_mse)\n",
        "ann_neg_rmse = -ann_rmse\n",
        "print(f'ANN RMSE: {ann_rmse}')\n",
        "print(f'ANN Negative RMSE: {ann_neg_rmse}')\n",
        "\n",
        "# Print y_test and y_pred\n",
        "print('y_test:', y_test.values)\n",
        "print('y_pred:', ann_predictions)\n"
      ],
      "metadata": {
        "colab": {
          "base_uri": "https://localhost:8080/"
        },
        "id": "KOsF74JkRbES",
        "outputId": "559f84e3-f819-45e8-9b2d-70820bb0702d"
      },
      "execution_count": null,
      "outputs": [
        {
          "output_type": "stream",
          "name": "stderr",
          "text": [
            "WARNING:absl:`lr` is deprecated in Keras optimizer, please use `learning_rate` or use the legacy optimizer, e.g.,tf.keras.optimizers.legacy.Adam.\n"
          ]
        },
        {
          "output_type": "stream",
          "name": "stdout",
          "text": [
            "Model: \"sequential\"\n",
            "_________________________________________________________________\n",
            " Layer (type)                Output Shape              Param #   \n",
            "=================================================================\n",
            " dense (Dense)               (None, 128)               2688      \n",
            "                                                                 \n",
            " dropout (Dropout)           (None, 128)               0         \n",
            "                                                                 \n",
            " dense_1 (Dense)             (None, 64)                8256      \n",
            "                                                                 \n",
            " dropout_1 (Dropout)         (None, 64)                0         \n",
            "                                                                 \n",
            " dense_2 (Dense)             (None, 1)                 65        \n",
            "                                                                 \n",
            "=================================================================\n",
            "Total params: 11009 (43.00 KB)\n",
            "Trainable params: 11009 (43.00 KB)\n",
            "Non-trainable params: 0 (0.00 Byte)\n",
            "_________________________________________________________________\n",
            "Epoch 1/50\n",
            "721/721 - 4s - loss: 71.8788 - val_loss: 46.8871 - 4s/epoch - 6ms/step\n",
            "Epoch 2/50\n",
            "721/721 - 2s - loss: 53.1559 - val_loss: 43.5467 - 2s/epoch - 2ms/step\n",
            "Epoch 3/50\n",
            "721/721 - 2s - loss: 51.1328 - val_loss: 46.5980 - 2s/epoch - 2ms/step\n",
            "Epoch 4/50\n",
            "721/721 - 2s - loss: 49.5862 - val_loss: 41.7816 - 2s/epoch - 2ms/step\n",
            "Epoch 5/50\n",
            "721/721 - 2s - loss: 48.8601 - val_loss: 44.3361 - 2s/epoch - 2ms/step\n",
            "Epoch 6/50\n",
            "721/721 - 2s - loss: 48.3135 - val_loss: 41.4442 - 2s/epoch - 2ms/step\n",
            "Epoch 7/50\n",
            "721/721 - 2s - loss: 47.0347 - val_loss: 41.2334 - 2s/epoch - 3ms/step\n",
            "Epoch 8/50\n",
            "721/721 - 3s - loss: 47.3820 - val_loss: 41.7129 - 3s/epoch - 4ms/step\n",
            "Epoch 9/50\n",
            "721/721 - 2s - loss: 46.7176 - val_loss: 40.5316 - 2s/epoch - 2ms/step\n",
            "Epoch 10/50\n",
            "721/721 - 2s - loss: 46.4587 - val_loss: 40.5243 - 2s/epoch - 2ms/step\n",
            "Epoch 11/50\n",
            "721/721 - 2s - loss: 46.0652 - val_loss: 40.3061 - 2s/epoch - 2ms/step\n",
            "Epoch 12/50\n",
            "721/721 - 1s - loss: 46.1256 - val_loss: 41.7082 - 1s/epoch - 2ms/step\n",
            "Epoch 13/50\n",
            "721/721 - 2s - loss: 46.1046 - val_loss: 40.6727 - 2s/epoch - 2ms/step\n",
            "Epoch 14/50\n",
            "721/721 - 2s - loss: 45.9118 - val_loss: 40.1545 - 2s/epoch - 2ms/step\n",
            "Epoch 15/50\n",
            "721/721 - 2s - loss: 45.1751 - val_loss: 39.7980 - 2s/epoch - 3ms/step\n",
            "Epoch 16/50\n",
            "721/721 - 2s - loss: 45.1152 - val_loss: 40.1982 - 2s/epoch - 3ms/step\n",
            "Epoch 17/50\n",
            "721/721 - 2s - loss: 45.0838 - val_loss: 40.8015 - 2s/epoch - 2ms/step\n",
            "Epoch 18/50\n",
            "721/721 - 2s - loss: 45.0941 - val_loss: 40.3844 - 2s/epoch - 2ms/step\n",
            "Epoch 19/50\n",
            "721/721 - 2s - loss: 44.8390 - val_loss: 40.0697 - 2s/epoch - 2ms/step\n",
            "Epoch 20/50\n",
            "721/721 - 2s - loss: 44.6060 - val_loss: 39.7928 - 2s/epoch - 2ms/step\n",
            "Epoch 21/50\n",
            "721/721 - 2s - loss: 44.6471 - val_loss: 40.8353 - 2s/epoch - 2ms/step\n",
            "Epoch 22/50\n",
            "721/721 - 2s - loss: 44.3881 - val_loss: 39.7762 - 2s/epoch - 3ms/step\n",
            "Epoch 23/50\n",
            "721/721 - 3s - loss: 44.3404 - val_loss: 39.6541 - 3s/epoch - 4ms/step\n",
            "Epoch 24/50\n",
            "721/721 - 2s - loss: 43.6599 - val_loss: 39.6828 - 2s/epoch - 3ms/step\n",
            "Epoch 25/50\n",
            "721/721 - 2s - loss: 43.7805 - val_loss: 39.2928 - 2s/epoch - 2ms/step\n",
            "Epoch 26/50\n",
            "721/721 - 2s - loss: 43.9429 - val_loss: 39.7120 - 2s/epoch - 2ms/step\n",
            "Epoch 27/50\n",
            "721/721 - 2s - loss: 43.6703 - val_loss: 40.8197 - 2s/epoch - 2ms/step\n",
            "Epoch 28/50\n",
            "721/721 - 2s - loss: 43.4718 - val_loss: 39.4299 - 2s/epoch - 2ms/step\n",
            "Epoch 29/50\n",
            "721/721 - 2s - loss: 43.2639 - val_loss: 39.2985 - 2s/epoch - 2ms/step\n",
            "Epoch 30/50\n",
            "721/721 - 2s - loss: 43.4361 - val_loss: 39.6393 - 2s/epoch - 3ms/step\n",
            "Epoch 31/50\n",
            "721/721 - 3s - loss: 42.9178 - val_loss: 39.4659 - 3s/epoch - 4ms/step\n",
            "Epoch 32/50\n",
            "721/721 - 2s - loss: 43.0387 - val_loss: 39.1698 - 2s/epoch - 2ms/step\n",
            "Epoch 33/50\n",
            "721/721 - 2s - loss: 42.8738 - val_loss: 39.4666 - 2s/epoch - 2ms/step\n",
            "Epoch 34/50\n",
            "721/721 - 2s - loss: 43.0230 - val_loss: 39.2161 - 2s/epoch - 2ms/step\n",
            "Epoch 35/50\n",
            "721/721 - 2s - loss: 42.8155 - val_loss: 39.6130 - 2s/epoch - 2ms/step\n",
            "Epoch 36/50\n",
            "721/721 - 2s - loss: 43.0183 - val_loss: 39.7161 - 2s/epoch - 2ms/step\n",
            "Epoch 37/50\n",
            "721/721 - 2s - loss: 42.5915 - val_loss: 39.1718 - 2s/epoch - 3ms/step\n",
            "Epoch 38/50\n",
            "721/721 - 3s - loss: 42.7846 - val_loss: 40.3270 - 3s/epoch - 4ms/step\n",
            "Epoch 39/50\n",
            "721/721 - 2s - loss: 42.5235 - val_loss: 39.0476 - 2s/epoch - 2ms/step\n",
            "Epoch 40/50\n",
            "721/721 - 2s - loss: 42.4427 - val_loss: 39.0281 - 2s/epoch - 2ms/step\n",
            "Epoch 41/50\n",
            "721/721 - 2s - loss: 42.5750 - val_loss: 38.8840 - 2s/epoch - 2ms/step\n",
            "Epoch 42/50\n",
            "721/721 - 2s - loss: 42.3046 - val_loss: 39.4105 - 2s/epoch - 2ms/step\n",
            "Epoch 43/50\n",
            "721/721 - 2s - loss: 42.1428 - val_loss: 38.8856 - 2s/epoch - 2ms/step\n",
            "Epoch 44/50\n",
            "721/721 - 2s - loss: 42.3266 - val_loss: 39.6448 - 2s/epoch - 2ms/step\n",
            "Epoch 45/50\n",
            "721/721 - 3s - loss: 41.7992 - val_loss: 39.8023 - 3s/epoch - 4ms/step\n",
            "Epoch 46/50\n",
            "721/721 - 2s - loss: 41.6257 - val_loss: 40.1679 - 2s/epoch - 3ms/step\n",
            "Epoch 47/50\n",
            "721/721 - 2s - loss: 41.7020 - val_loss: 39.4502 - 2s/epoch - 2ms/step\n",
            "Epoch 48/50\n",
            "721/721 - 2s - loss: 41.6350 - val_loss: 39.4242 - 2s/epoch - 2ms/step\n",
            "Epoch 49/50\n",
            "721/721 - 2s - loss: 41.3939 - val_loss: 38.7564 - 2s/epoch - 2ms/step\n",
            "Epoch 50/50\n",
            "721/721 - 2s - loss: 41.5215 - val_loss: 39.1660 - 2s/epoch - 2ms/step\n",
            "181/181 [==============================] - 0s 2ms/step\n",
            "ANN MSE: 39.16604356151742\n",
            "ANN R²: 0.14021753569786588\n",
            "ANN RMSE: 6.25827800289484\n",
            "ANN Negative RMSE: -6.25827800289484\n",
            "y_test: [18 18 17 ... 17 19 16]\n",
            "y_pred: [24.54189  17.69558  19.361053 ... 19.099438 20.388195 19.48281 ]\n"
          ]
        }
      ]
    },
    {
      "cell_type": "markdown",
      "source": [
        "#Hyperparameter Tuning"
      ],
      "metadata": {
        "id": "5SwWcYPaJkXX"
      }
    },
    {
      "cell_type": "code",
      "source": [
        "from sklearn.model_selection import RandomizedSearchCV\n",
        "from xgboost import XGBRegressor\n",
        "from scipy.stats import randint, uniform\n",
        "\n",
        "# Define the parameter distributions\n",
        "param_dist_xgb = {\n",
        "    'n_estimators': randint(100, 300),  # Number of trees\n",
        "    'learning_rate': uniform(0.01, 0.3),  # Learning rate\n",
        "    'max_depth': np.arange(2, 11, 1)  # Maximum depth of trees\n",
        "}\n",
        "\n",
        "# Initialize the XGBRegressor\n",
        "xgb_model = XGBRegressor(random_state=random_state)\n",
        "\n",
        "# Initialize RandomizedSearchCV\n",
        "random_search_xgb = RandomizedSearchCV(estimator=xgb_model, param_distributions=param_dist_xgb,\n",
        "                                       n_iter=50, scoring='neg_mean_squared_error', cv=3,\n",
        "                                       verbose=1, random_state=random_state, n_jobs=-1)\n",
        "\n",
        "# Fit RandomizedSearchCV\n",
        "random_search_xgb.fit(X_train_scaled, y_train)\n",
        "\n",
        "# Best parameters and best score\n",
        "print(\"Best parameters for XGBoost:\", random_search_xgb.best_params_)\n",
        "print(\"Best MSE score for XGBoost:\", -random_search_xgb.best_score_)"
      ],
      "metadata": {
        "colab": {
          "base_uri": "https://localhost:8080/"
        },
        "id": "NTVUTZomt2BN",
        "outputId": "5b73b445-55a1-401d-f834-f71776edd36f"
      },
      "execution_count": null,
      "outputs": [
        {
          "output_type": "stream",
          "name": "stdout",
          "text": [
            "Fitting 3 folds for each of 50 candidates, totalling 150 fits\n",
            "Best parameters for XGBoost: {'learning_rate': 0.08361171713792499, 'max_depth': 7, 'n_estimators': 205}\n",
            "Best MSE score for XGBoost: 33.24261941954834\n"
          ]
        }
      ]
    },
    {
      "cell_type": "code",
      "source": [
        "from sklearn.ensemble import GradientBoostingRegressor\n",
        "from scipy.stats import randint, uniform\n",
        "\n",
        "# Define the parameter distributions\n",
        "param_dist_gbm = {\n",
        "    'n_estimators': randint(100, 300),  # Number of trees\n",
        "    \"learning_rate\": np.linspace(0.01, 0.1, 10),  # Learning rate\n",
        "    'max_depth': np.arange(2, 11, 1)  # Maximum depth of trees\n",
        "}\n",
        "\n",
        "# Initialize the GradientBoostingRegressor\n",
        "gbm_model = GradientBoostingRegressor(random_state=random_state)\n",
        "\n",
        "# Initialize RandomizedSearchCV\n",
        "random_search_gbm = RandomizedSearchCV(estimator=gbm_model, param_distributions=param_dist_gbm,\n",
        "                                       n_iter=20, scoring='neg_mean_squared_error', cv=3,\n",
        "                                       verbose=3, random_state=random_state)\n",
        "\n",
        "# Fit RandomizedSearchCV\n",
        "random_search_gbm.fit(X_train_scaled, y_train)\n",
        "\n",
        "# Best parameters and best score\n",
        "print(\"Best parameters for GBM:\", random_search_gbm.best_params_)\n",
        "print(\"Best MSE score for GBM:\", -random_search_gbm.best_score_)"
      ],
      "metadata": {
        "colab": {
          "base_uri": "https://localhost:8080/"
        },
        "id": "1bMpSBi15OHK",
        "outputId": "a95e7dc1-43da-4a0e-dcc4-7ada0c3ab24d"
      },
      "execution_count": null,
      "outputs": [
        {
          "output_type": "stream",
          "name": "stdout",
          "text": [
            "Fitting 3 folds for each of 20 candidates, totalling 60 fits\n",
            "[CV 1/3] END learning_rate=0.020000000000000004, max_depth=8, n_estimators=250;, score=-34.515 total time=  29.7s\n",
            "[CV 2/3] END learning_rate=0.020000000000000004, max_depth=8, n_estimators=250;, score=-33.796 total time=  29.7s\n",
            "[CV 3/3] END learning_rate=0.020000000000000004, max_depth=8, n_estimators=250;, score=-34.146 total time=  28.0s\n",
            "[CV 1/3] END learning_rate=0.1, max_depth=2, n_estimators=273;, score=-38.592 total time=   7.2s\n",
            "[CV 2/3] END learning_rate=0.1, max_depth=2, n_estimators=273;, score=-37.877 total time=   8.3s\n",
            "[CV 3/3] END learning_rate=0.1, max_depth=2, n_estimators=273;, score=-38.279 total time=   7.3s\n",
            "[CV 1/3] END learning_rate=0.07, max_depth=6, n_estimators=139;, score=-34.579 total time=  11.8s\n",
            "[CV 2/3] END learning_rate=0.07, max_depth=6, n_estimators=139;, score=-34.043 total time=  11.8s\n",
            "[CV 3/3] END learning_rate=0.07, max_depth=6, n_estimators=139;, score=-34.611 total time=  11.6s\n",
            "[CV 1/3] END learning_rate=0.05000000000000001, max_depth=9, n_estimators=229;, score=-34.093 total time=  28.8s\n",
            "[CV 2/3] END learning_rate=0.05000000000000001, max_depth=9, n_estimators=229;, score=-33.064 total time=  29.0s\n",
            "[CV 3/3] END learning_rate=0.05000000000000001, max_depth=9, n_estimators=229;, score=-33.422 total time=  28.8s\n",
            "[CV 1/3] END learning_rate=0.020000000000000004, max_depth=10, n_estimators=110;, score=-35.482 total time=  17.5s\n",
            "[CV 2/3] END learning_rate=0.020000000000000004, max_depth=10, n_estimators=110;, score=-34.584 total time=  15.4s\n",
            "[CV 3/3] END learning_rate=0.020000000000000004, max_depth=10, n_estimators=110;, score=-35.275 total time=  15.4s\n",
            "[CV 1/3] END learning_rate=0.030000000000000006, max_depth=5, n_estimators=163;, score=-37.009 total time=  11.7s\n",
            "[CV 2/3] END learning_rate=0.030000000000000006, max_depth=5, n_estimators=163;, score=-36.302 total time=  11.7s\n",
            "[CV 3/3] END learning_rate=0.030000000000000006, max_depth=5, n_estimators=163;, score=-37.177 total time=  11.2s\n",
            "[CV 1/3] END learning_rate=0.07, max_depth=8, n_estimators=141;, score=-33.951 total time=  16.4s\n",
            "[CV 2/3] END learning_rate=0.07, max_depth=8, n_estimators=141;, score=-33.186 total time=  15.8s\n",
            "[CV 3/3] END learning_rate=0.07, max_depth=8, n_estimators=141;, score=-33.488 total time=  15.7s\n",
            "[CV 1/3] END learning_rate=0.1, max_depth=3, n_estimators=277;, score=-36.390 total time=  12.1s\n",
            "[CV 2/3] END learning_rate=0.1, max_depth=3, n_estimators=277;, score=-35.725 total time=  11.9s\n",
            "[CV 3/3] END learning_rate=0.1, max_depth=3, n_estimators=277;, score=-36.096 total time=  11.8s\n",
            "[CV 1/3] END learning_rate=0.01, max_depth=7, n_estimators=266;, score=-36.428 total time=  26.2s\n",
            "[CV 2/3] END learning_rate=0.01, max_depth=7, n_estimators=266;, score=-35.739 total time=  27.6s\n",
            "[CV 3/3] END learning_rate=0.01, max_depth=7, n_estimators=266;, score=-36.426 total time=  26.1s\n",
            "[CV 1/3] END learning_rate=0.030000000000000006, max_depth=8, n_estimators=221;, score=-34.101 total time=  26.2s\n",
            "[CV 2/3] END learning_rate=0.030000000000000006, max_depth=8, n_estimators=221;, score=-33.518 total time=  25.1s\n",
            "[CV 3/3] END learning_rate=0.030000000000000006, max_depth=8, n_estimators=221;, score=-33.759 total time=  26.4s\n",
            "[CV 1/3] END learning_rate=0.09000000000000001, max_depth=5, n_estimators=150;, score=-34.759 total time=  11.5s\n",
            "[CV 2/3] END learning_rate=0.09000000000000001, max_depth=5, n_estimators=150;, score=-34.531 total time=  10.8s\n",
            "[CV 3/3] END learning_rate=0.09000000000000001, max_depth=5, n_estimators=150;, score=-34.739 total time=  10.7s\n",
            "[CV 1/3] END learning_rate=0.020000000000000004, max_depth=10, n_estimators=279;, score=-34.513 total time=  40.8s\n",
            "[CV 2/3] END learning_rate=0.020000000000000004, max_depth=10, n_estimators=279;, score=-33.316 total time=  40.1s\n",
            "[CV 3/3] END learning_rate=0.020000000000000004, max_depth=10, n_estimators=279;, score=-33.862 total time=  40.1s\n",
            "[CV 1/3] END learning_rate=0.030000000000000006, max_depth=9, n_estimators=163;, score=-34.310 total time=  21.1s\n",
            "[CV 2/3] END learning_rate=0.030000000000000006, max_depth=9, n_estimators=163;, score=-33.421 total time=  21.2s\n",
            "[CV 3/3] END learning_rate=0.030000000000000006, max_depth=9, n_estimators=163;, score=-33.842 total time=  20.6s\n",
            "[CV 1/3] END learning_rate=0.09000000000000001, max_depth=4, n_estimators=149;, score=-36.214 total time=   8.8s\n",
            "[CV 2/3] END learning_rate=0.09000000000000001, max_depth=4, n_estimators=149;, score=-35.635 total time=   8.0s\n",
            "[CV 3/3] END learning_rate=0.09000000000000001, max_depth=4, n_estimators=149;, score=-36.084 total time=   9.1s\n",
            "[CV 1/3] END learning_rate=0.09000000000000001, max_depth=3, n_estimators=172;, score=-37.557 total time=   7.8s\n",
            "[CV 2/3] END learning_rate=0.09000000000000001, max_depth=3, n_estimators=172;, score=-36.842 total time=   8.1s\n",
            "[CV 3/3] END learning_rate=0.09000000000000001, max_depth=3, n_estimators=172;, score=-37.428 total time=   8.0s\n",
            "[CV 1/3] END learning_rate=0.01, max_depth=6, n_estimators=217;, score=-38.199 total time=  18.1s\n",
            "[CV 2/3] END learning_rate=0.01, max_depth=6, n_estimators=217;, score=-37.603 total time=  18.0s\n",
            "[CV 3/3] END learning_rate=0.01, max_depth=6, n_estimators=217;, score=-38.357 total time=  19.0s\n",
            "[CV 1/3] END learning_rate=0.05000000000000001, max_depth=6, n_estimators=127;, score=-35.411 total time=  10.6s\n",
            "[CV 2/3] END learning_rate=0.05000000000000001, max_depth=6, n_estimators=127;, score=-34.617 total time=  10.3s\n",
            "[CV 3/3] END learning_rate=0.05000000000000001, max_depth=6, n_estimators=127;, score=-35.376 total time=  11.1s\n",
            "[CV 1/3] END learning_rate=0.04000000000000001, max_depth=5, n_estimators=183;, score=-36.075 total time=  13.0s\n",
            "[CV 2/3] END learning_rate=0.04000000000000001, max_depth=5, n_estimators=183;, score=-35.349 total time=  12.9s\n",
            "[CV 3/3] END learning_rate=0.04000000000000001, max_depth=5, n_estimators=183;, score=-36.128 total time=  13.0s\n",
            "[CV 1/3] END learning_rate=0.08, max_depth=10, n_estimators=121;, score=-34.585 total time=  16.8s\n",
            "[CV 2/3] END learning_rate=0.08, max_depth=10, n_estimators=121;, score=-33.360 total time=  17.4s\n",
            "[CV 3/3] END learning_rate=0.08, max_depth=10, n_estimators=121;, score=-33.915 total time=  18.4s\n",
            "[CV 1/3] END learning_rate=0.020000000000000004, max_depth=6, n_estimators=189;, score=-36.493 total time=  15.8s\n",
            "[CV 2/3] END learning_rate=0.020000000000000004, max_depth=6, n_estimators=189;, score=-35.828 total time=  15.9s\n",
            "[CV 3/3] END learning_rate=0.020000000000000004, max_depth=6, n_estimators=189;, score=-36.562 total time=  15.7s\n",
            "Best parameters for GBM: {'learning_rate': 0.05000000000000001, 'max_depth': 9, 'n_estimators': 229}\n",
            "Best MSE score for GBM: 33.52631421125027\n"
          ]
        }
      ]
    },
    {
      "cell_type": "code",
      "source": [
        "from sklearn.ensemble import RandomForestRegressor\n",
        "from scipy.stats import randint\n",
        "\n",
        "# Define the parameter distributions\n",
        "param_dist_rf = {\n",
        "    'n_estimators': randint(100, 300),  # Number of trees\n",
        "    'max_depth': np.arange(2, 11, 1)  # Maximum depth of trees\n",
        "}\n",
        "\n",
        "# Initialize the RandomForestRegressor\n",
        "rf_model = RandomForestRegressor(random_state=random_state)\n",
        "\n",
        "# Initialize RandomizedSearchCV\n",
        "random_search_rf = RandomizedSearchCV(estimator=rf_model, param_distributions=param_dist_rf,\n",
        "                                      n_iter=20, scoring='neg_mean_squared_error', cv=3,\n",
        "                                      verbose=3, random_state=random_state)\n",
        "\n",
        "# Fit RandomizedSearchCV\n",
        "random_search_rf.fit(X_train_scaled, y_train)\n",
        "\n",
        "# Best parameters and best score\n",
        "print(\"Best parameters for Random Forest:\", random_search_rf.best_params_)\n",
        "print(\"Best MSE score for Random Forest:\", -random_search_rf.best_score_)\n"
      ],
      "metadata": {
        "colab": {
          "base_uri": "https://localhost:8080/"
        },
        "id": "WdQh6peLr-cz",
        "outputId": "e1c3d5be-0dc2-45f7-bec8-73ac68c63259"
      },
      "execution_count": null,
      "outputs": [
        {
          "output_type": "stream",
          "name": "stdout",
          "text": [
            "Fitting 3 folds for each of 20 candidates, totalling 60 fits\n",
            "[CV 1/3] END ...max_depth=3, n_estimators=243;, score=-44.321 total time=   6.7s\n",
            "[CV 2/3] END ...max_depth=3, n_estimators=243;, score=-42.903 total time=   7.7s\n",
            "[CV 3/3] END ...max_depth=3, n_estimators=243;, score=-43.964 total time=   6.7s\n",
            "[CV 1/3] END ...max_depth=8, n_estimators=250;, score=-38.261 total time=  19.4s\n",
            "[CV 2/3] END ...max_depth=8, n_estimators=250;, score=-37.344 total time=  18.5s\n",
            "[CV 3/3] END ...max_depth=8, n_estimators=250;, score=-37.699 total time=  19.2s\n",
            "[CV 1/3] END ...max_depth=2, n_estimators=273;, score=-45.606 total time=   5.4s\n",
            "[CV 2/3] END ...max_depth=2, n_estimators=273;, score=-44.175 total time=   5.1s\n",
            "[CV 3/3] END ...max_depth=2, n_estimators=273;, score=-45.167 total time=   6.2s\n",
            "[CV 1/3] END ...max_depth=8, n_estimators=131;, score=-38.311 total time=  11.3s\n",
            "[CV 2/3] END ...max_depth=8, n_estimators=131;, score=-37.447 total time=   9.1s\n",
            "[CV 3/3] END ...max_depth=8, n_estimators=131;, score=-37.711 total time=  10.1s\n",
            "[CV 1/3] END ...max_depth=6, n_estimators=139;, score=-40.410 total time=   8.7s\n",
            "[CV 2/3] END ...max_depth=6, n_estimators=139;, score=-39.412 total time=   7.5s\n",
            "[CV 3/3] END ...max_depth=6, n_estimators=139;, score=-39.961 total time=   8.3s\n",
            "[CV 1/3] END ...max_depth=6, n_estimators=272;, score=-40.404 total time=  15.5s\n",
            "[CV 2/3] END ...max_depth=6, n_estimators=272;, score=-39.368 total time=  15.2s\n",
            "[CV 3/3] END ...max_depth=6, n_estimators=272;, score=-39.959 total time=  15.4s\n",
            "[CV 1/3] END ...max_depth=9, n_estimators=229;, score=-37.378 total time=  19.9s\n",
            "[CV 2/3] END ...max_depth=9, n_estimators=229;, score=-36.537 total time=  19.0s\n",
            "[CV 3/3] END ...max_depth=9, n_estimators=229;, score=-36.810 total time=  22.5s\n",
            "[CV 1/3] END ...max_depth=3, n_estimators=141;, score=-44.355 total time=   3.9s\n",
            "[CV 2/3] END ...max_depth=3, n_estimators=141;, score=-42.904 total time=   3.9s\n",
            "[CV 3/3] END ...max_depth=3, n_estimators=141;, score=-43.911 total time=   4.7s\n",
            "[CV 1/3] END ..max_depth=10, n_estimators=110;, score=-36.713 total time=  10.9s\n",
            "[CV 2/3] END ..max_depth=10, n_estimators=110;, score=-35.880 total time=  10.4s\n",
            "[CV 3/3] END ..max_depth=10, n_estimators=110;, score=-36.145 total time=  10.5s\n",
            "[CV 1/3] END ...max_depth=4, n_estimators=231;, score=-42.956 total time=   9.2s\n",
            "[CV 2/3] END ...max_depth=4, n_estimators=231;, score=-41.656 total time=   8.2s\n",
            "[CV 3/3] END ...max_depth=4, n_estimators=231;, score=-42.536 total time=   9.3s\n",
            "[CV 1/3] END ...max_depth=8, n_estimators=266;, score=-38.267 total time=  19.7s\n",
            "[CV 2/3] END ...max_depth=8, n_estimators=266;, score=-37.348 total time=  20.3s\n",
            "[CV 3/3] END ...max_depth=8, n_estimators=266;, score=-37.688 total time=  19.6s\n",
            "[CV 1/3] END ...max_depth=3, n_estimators=277;, score=-44.322 total time=   8.6s\n",
            "[CV 2/3] END ...max_depth=3, n_estimators=277;, score=-42.904 total time=   8.6s\n",
            "[CV 3/3] END ...max_depth=3, n_estimators=277;, score=-43.950 total time=   7.6s\n",
            "[CV 1/3] END ...max_depth=2, n_estimators=161;, score=-45.631 total time=   3.2s\n",
            "[CV 2/3] END ...max_depth=2, n_estimators=161;, score=-44.168 total time=   3.8s\n",
            "[CV 3/3] END ...max_depth=2, n_estimators=161;, score=-45.158 total time=   3.0s\n",
            "[CV 1/3] END ...max_depth=7, n_estimators=266;, score=-39.311 total time=  18.2s\n",
            "[CV 2/3] END ...max_depth=7, n_estimators=266;, score=-38.274 total time=  19.3s\n",
            "[CV 3/3] END ...max_depth=7, n_estimators=266;, score=-38.790 total time=  17.3s\n",
            "[CV 1/3] END ...max_depth=4, n_estimators=144;, score=-42.983 total time=   5.1s\n",
            "[CV 2/3] END ...max_depth=4, n_estimators=144;, score=-41.653 total time=   6.1s\n",
            "[CV 3/3] END ...max_depth=4, n_estimators=144;, score=-42.495 total time=   5.2s\n",
            "[CV 1/3] END ...max_depth=8, n_estimators=221;, score=-38.264 total time=  16.5s\n",
            "[CV 2/3] END ...max_depth=8, n_estimators=221;, score=-37.359 total time=  17.5s\n",
            "[CV 3/3] END ...max_depth=8, n_estimators=221;, score=-37.712 total time=  16.5s\n",
            "[CV 1/3] END ..max_depth=10, n_estimators=127;, score=-36.703 total time=  12.1s\n",
            "[CV 2/3] END ..max_depth=10, n_estimators=127;, score=-35.890 total time=  12.1s\n",
            "[CV 3/3] END ..max_depth=10, n_estimators=127;, score=-36.074 total time=  11.8s\n",
            "[CV 1/3] END ...max_depth=5, n_estimators=150;, score=-41.608 total time=   7.1s\n",
            "[CV 2/3] END ...max_depth=5, n_estimators=150;, score=-40.477 total time=   7.6s\n",
            "[CV 3/3] END ...max_depth=5, n_estimators=150;, score=-41.213 total time=   6.7s\n",
            "[CV 1/3] END ...max_depth=3, n_estimators=160;, score=-44.354 total time=   4.7s\n",
            "[CV 2/3] END ...max_depth=3, n_estimators=160;, score=-42.894 total time=   5.1s\n",
            "[CV 3/3] END ...max_depth=3, n_estimators=160;, score=-43.926 total time=   4.5s\n",
            "[CV 1/3] END ..max_depth=10, n_estimators=279;, score=-36.589 total time=  27.7s\n",
            "[CV 2/3] END ..max_depth=10, n_estimators=279;, score=-35.790 total time=  26.6s\n",
            "[CV 3/3] END ..max_depth=10, n_estimators=279;, score=-36.004 total time=  26.4s\n",
            "Best parameters for Random Forest: {'max_depth': 10, 'n_estimators': 279}\n",
            "Best MSE score for Random Forest: 36.12777172936029\n"
          ]
        }
      ]
    },
    {
      "cell_type": "code",
      "source": [
        "from sklearn.model_selection import RandomizedSearchCV\n",
        "from sklearn.neighbors import KNeighborsRegressor\n",
        "from sklearn.metrics import make_scorer, mean_squared_error\n",
        "import numpy as np\n",
        "\n",
        "# Define the parameter grid\n",
        "param_dist = {\n",
        "    'n_neighbors': np.arange(1, 50),                 # Number of neighbors\n",
        "    'weights': ['uniform', 'distance'],              # Weight function used in prediction\n",
        "    'metric': ['manhattan', 'minkowski']             # Distance metric to use\n",
        "}\n",
        "\n",
        "# Initialize the KNN model\n",
        "knn_model = KNeighborsRegressor()\n",
        "\n",
        "# Define the custom scoring function for negative RMSE\n",
        "def neg_rmse_scorer(estimator, X, y):\n",
        "    y_pred = estimator.predict(X)\n",
        "    rmse = np.sqrt(mean_squared_error(y, y_pred))\n",
        "    return -rmse\n",
        "\n",
        "# Create the RandomizedSearchCV object\n",
        "random_search = RandomizedSearchCV(\n",
        "    knn_model,\n",
        "    param_distributions=param_dist,\n",
        "    n_iter=20,                                                            # Number of parameter settings that are sampled\n",
        "    scoring={'neg_rmse': make_scorer(neg_rmse_scorer), 'r2': 'r2'},\n",
        "    refit='neg_rmse',                                                      # Refitting the best estimator using the negative RMSE scoring\n",
        "    cv=3,                                                                  # 5-fold cross-validation\n",
        "    random_state=random_state,                                             # Ensure reproducibility\n",
        "    verbose=2,                                                             # Print detailed information during the fitting process\n",
        "    n_jobs=-1                                                              # Use all available cores\n",
        ")\n",
        "\n",
        "# Fit the RandomizedSearchCV object\n",
        "random_search.fit(X_train_scaled, y_train)\n",
        "\n",
        "# Get the best parameters and score\n",
        "best_params_knn = random_search.best_params_\n",
        "best_score_knn = random_search.best_score_\n",
        "\n",
        "print(f'Best parameters for KNN: {best_params_knn}')\n",
        "print(f'Best negative RMSE score for KNN: {best_score_knn}')\n",
        "\n",
        "# Train and evaluate the best KNN model\n",
        "best_knn_model = random_search.best_estimator_\n",
        "knn_predictions = best_knn_model.predict(X_test_scaled)\n",
        "\n",
        "# Calculate MSE\n",
        "knn_mse = mean_squared_error(y_test, knn_predictions)\n",
        "print(f'KNN MSE: {knn_mse}')\n",
        "\n",
        "# Calculate R²\n",
        "knn_r2 = r2_score(y_test, knn_predictions)\n",
        "print(f'KNN R²: {knn_r2}')\n",
        "\n",
        "# Calculate RMSE and Negative RMSE\n",
        "knn_rmse = np.sqrt(knn_mse)\n",
        "knn_neg_rmse = -knn_rmse\n",
        "print(f'KNN RMSE: {knn_rmse}')\n",
        "print(f'KNN Negative RMSE: {knn_neg_rmse}')\n",
        "\n",
        "# Print y_test and y_pred\n",
        "print('y_test:', y_test.values)\n",
        "print('y_pred:', knn_predictions)\n"
      ],
      "metadata": {
        "colab": {
          "base_uri": "https://localhost:8080/"
        },
        "id": "zI7SPZN6O6i0",
        "outputId": "c5e0938d-7534-4268-dcf1-fd978c8ac9f4"
      },
      "execution_count": null,
      "outputs": [
        {
          "output_type": "stream",
          "name": "stdout",
          "text": [
            "Fitting 3 folds for each of 20 candidates, totalling 60 fits\n"
          ]
        },
        {
          "output_type": "stream",
          "name": "stderr",
          "text": [
            "/usr/local/lib/python3.10/dist-packages/sklearn/model_selection/_search.py:952: UserWarning: One or more of the test scores are non-finite: [nan nan nan nan nan nan nan nan nan nan nan nan nan nan nan nan nan nan\n",
            " nan nan]\n",
            "  warnings.warn(\n"
          ]
        },
        {
          "output_type": "stream",
          "name": "stdout",
          "text": [
            "Best parameters for KNN: {'weights': 'uniform', 'n_neighbors': 1, 'metric': 'manhattan'}\n",
            "Best negative RMSE score for KNN: nan\n",
            "KNN MSE: 67.56280360860514\n",
            "KNN R²: -0.483155011318102\n",
            "KNN RMSE: 8.219659579849104\n",
            "KNN Negative RMSE: -8.219659579849104\n",
            "y_test: [18 18 17 ... 17 19 16]\n",
            "y_pred: [14. 28. 13. ... 39. 17. 15.]\n"
          ]
        }
      ]
    },
    {
      "cell_type": "markdown",
      "source": [
        "#Tuned Model"
      ],
      "metadata": {
        "id": "fGLrOnp6J987"
      }
    },
    {
      "cell_type": "markdown",
      "source": [
        "###XG-Boost"
      ],
      "metadata": {
        "id": "M_C6FnErKEPB"
      }
    },
    {
      "cell_type": "code",
      "source": [
        "from xgboost import XGBRegressor\n",
        "from sklearn.metrics import mean_squared_error, r2_score\n",
        "import numpy as np\n",
        "\n",
        "# Best parameters from RandomizedSearchCV\n",
        "best_params_xgb = {\n",
        "    'learning_rate': 0.08361171713792499,\n",
        "    'max_depth': 7,\n",
        "    'n_estimators': 205,\n",
        "    'random_state': random_state  # Ensure reproducibility\n",
        "}\n",
        "\n",
        "# Initialize and train the XGBoost model with the best parameters\n",
        "xgb_model = XGBRegressor(**best_params_xgb)\n",
        "xgb_model.fit(X_train_scaled, y_train)\n",
        "\n",
        "# Make predictions on the test set\n",
        "y_pred = xgb_model.predict(X_test_scaled)\n",
        "\n",
        "# Calculate R²\n",
        "r2 = r2_score(y_test, y_pred)\n",
        "print(f'R² score: {r2}')\n",
        "\n",
        "# Calculate RMSE and Negative RMSE\n",
        "rmse = np.sqrt(mean_squared_error(y_test, y_pred))\n",
        "neg_rmse = -rmse\n",
        "print(f'RMSE: {rmse}')\n",
        "print(f'Negative RMSE: {neg_rmse}')\n"
      ],
      "metadata": {
        "colab": {
          "base_uri": "https://localhost:8080/"
        },
        "id": "euddSoKiITva",
        "outputId": "9ce71697-58d0-441d-a91e-3c40ccd85c09"
      },
      "execution_count": null,
      "outputs": [
        {
          "output_type": "stream",
          "name": "stdout",
          "text": [
            "R² score: 0.3120066888458719\n",
            "RMSE: 5.598254884133461\n",
            "Negative RMSE: -5.598254884133461\n"
          ]
        }
      ]
    },
    {
      "cell_type": "markdown",
      "source": [
        "### GBM"
      ],
      "metadata": {
        "id": "yqKJrpVaLglf"
      }
    },
    {
      "cell_type": "code",
      "source": [
        "from sklearn.ensemble import GradientBoostingRegressor\n",
        "from sklearn.metrics import mean_squared_error, r2_score\n",
        "import numpy as np\n",
        "\n",
        "# Best parameters from RandomizedSearchCV\n",
        "best_params_gbm = {\n",
        "    'learning_rate': 0.05000000000000001,\n",
        "    'max_depth': 9,\n",
        "    'n_estimators': 229,\n",
        "    'random_state': random_state  # Ensure reproducibility\n",
        "}\n",
        "\n",
        "# Initialize and train the GBM model with the best parameters\n",
        "gbm_model = GradientBoostingRegressor(**best_params_gbm)\n",
        "gbm_model.fit(X_train_scaled, y_train)\n",
        "\n",
        "# Make predictions on the test set\n",
        "y_pred = gbm_model.predict(X_test_scaled)\n",
        "\n",
        "# Calculate R²\n",
        "r2 = r2_score(y_test, y_pred)\n",
        "print(f'R² score: {r2}')\n",
        "\n",
        "# Calculate RMSE and Negative RMSE\n",
        "rmse = np.sqrt(mean_squared_error(y_test, y_pred))\n",
        "neg_rmse = -rmse\n",
        "print(f'RMSE: {rmse}')\n",
        "print(f'Negative RMSE: {neg_rmse}')\n"
      ],
      "metadata": {
        "colab": {
          "base_uri": "https://localhost:8080/"
        },
        "id": "TeQkuBdTJZGJ",
        "outputId": "9fcd72b3-6746-4869-95bd-063edb931b8b"
      },
      "execution_count": null,
      "outputs": [
        {
          "output_type": "stream",
          "name": "stdout",
          "text": [
            "R² score: 0.31416275822856987\n",
            "RMSE: 5.589475948946597\n",
            "Negative RMSE: -5.589475948946597\n"
          ]
        }
      ]
    },
    {
      "cell_type": "markdown",
      "source": [
        "### Random Forest"
      ],
      "metadata": {
        "id": "ubx8w-QRLmbB"
      }
    },
    {
      "cell_type": "code",
      "source": [
        "from sklearn.ensemble import RandomForestRegressor\n",
        "from sklearn.metrics import mean_squared_error, r2_score\n",
        "import numpy as np\n",
        "\n",
        "# Best parameters from RandomizedSearchCV\n",
        "best_params_rf = {\n",
        "    'max_depth': 10,\n",
        "    'n_estimators': 279,\n",
        "    'random_state': random_state  # Ensure reproducibility\n",
        "}\n",
        "\n",
        "# Initialize and train the Random Forest model with the best parameters\n",
        "rf_model = RandomForestRegressor(**best_params_rf)\n",
        "rf_model.fit(X_train_scaled, y_train)\n",
        "\n",
        "# Make predictions on the test set\n",
        "y_pred = rf_model.predict(X_test_scaled)\n",
        "\n",
        "# Calculate R²\n",
        "r2 = r2_score(y_test, y_pred)\n",
        "print(f'R² score: {r2}')\n",
        "\n",
        "# Calculate RMSE and Negative RMSE\n",
        "rmse = np.sqrt(mean_squared_error(y_test, y_pred))\n",
        "neg_rmse = -rmse\n",
        "print(f'RMSE: {rmse}')\n",
        "print(f'Negative RMSE: {neg_rmse}')\n"
      ],
      "metadata": {
        "colab": {
          "base_uri": "https://localhost:8080/"
        },
        "id": "w8XJKsYAJYu9",
        "outputId": "afc80842-bd99-4028-d11f-10c6e44e320b"
      },
      "execution_count": null,
      "outputs": [
        {
          "output_type": "stream",
          "name": "stdout",
          "text": [
            "R² score: 0.24406255085220474\n",
            "RMSE: 5.868180854340411\n",
            "Negative RMSE: -5.868180854340411\n"
          ]
        }
      ]
    },
    {
      "cell_type": "markdown",
      "source": [
        "###KNN"
      ],
      "metadata": {
        "id": "OH8ts0ZKTn3F"
      }
    },
    {
      "cell_type": "code",
      "source": [
        "from sklearn.neighbors import KNeighborsRegressor\n",
        "from sklearn.metrics import mean_squared_error, r2_score\n",
        "import numpy as np\n",
        "\n",
        "# Best parameters from RandomizedSearchCV\n",
        "best_params_knn = {\n",
        "    'weights': 'uniform',\n",
        "    'n_neighbors': 1,\n",
        "    'metric': 'manhattan'\n",
        "}\n",
        "\n",
        "# Initialize and train the KNN model with the best parameters\n",
        "knn_model = KNeighborsRegressor(**best_params_knn)\n",
        "knn_model.fit(X_train_scaled, y_train)\n",
        "\n",
        "# Make predictions on the test set\n",
        "knn_predictions = knn_model.predict(X_test_scaled)\n",
        "\n",
        "# Calculate MSE\n",
        "knn_mse = mean_squared_error(y_test, knn_predictions)\n",
        "print(f'KNN MSE: {knn_mse}')\n",
        "\n",
        "# Calculate R²\n",
        "knn_r2 = r2_score(y_test, knn_predictions)\n",
        "print(f'KNN R²: {knn_r2}')\n",
        "\n",
        "# Calculate RMSE and Negative RMSE\n",
        "knn_rmse = np.sqrt(knn_mse)\n",
        "knn_neg_rmse = -knn_rmse\n",
        "print(f'KNN RMSE: {knn_rmse}')\n",
        "print(f'KNN Negative RMSE: {knn_neg_rmse}')\n",
        "\n",
        "# Print y_test and y_pred\n",
        "print('y_test:', y_test.values)\n",
        "print('y_pred:', knn_predictions)\n"
      ],
      "metadata": {
        "colab": {
          "base_uri": "https://localhost:8080/"
        },
        "id": "eeBYFam4Mgen",
        "outputId": "f821a225-7c59-41ce-bf78-4a29a7c56eec"
      },
      "execution_count": null,
      "outputs": [
        {
          "output_type": "stream",
          "name": "stdout",
          "text": [
            "KNN MSE: 67.56280360860514\n",
            "KNN R²: -0.483155011318102\n",
            "KNN RMSE: 8.219659579849104\n",
            "KNN Negative RMSE: -8.219659579849104\n",
            "y_test: [18 18 17 ... 17 19 16]\n",
            "y_pred: [14. 28. 13. ... 39. 17. 15.]\n"
          ]
        }
      ]
    },
    {
      "cell_type": "code",
      "source": [],
      "metadata": {
        "id": "8lCNnRFwOHSQ"
      },
      "execution_count": null,
      "outputs": []
    },
    {
      "cell_type": "code",
      "source": [],
      "metadata": {
        "id": "orOf2DKtOHGV"
      },
      "execution_count": null,
      "outputs": []
    },
    {
      "cell_type": "code",
      "source": [],
      "metadata": {
        "id": "xxG8WBzsSmEe"
      },
      "execution_count": null,
      "outputs": []
    }
  ]
}